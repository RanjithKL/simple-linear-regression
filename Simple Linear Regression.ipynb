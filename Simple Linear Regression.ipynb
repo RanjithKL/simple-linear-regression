{
 "cells": [
  {
   "cell_type": "markdown",
   "id": "2598fe70",
   "metadata": {},
   "source": [
    "## Import packages"
   ]
  },
  {
   "cell_type": "code",
   "execution_count": 1,
   "id": "632673b0",
   "metadata": {},
   "outputs": [],
   "source": [
    "import os\n",
    "import math\n",
    "import numpy as np\n",
    "import pandas as pd\n",
    "import matplotlib.pyplot as plt"
   ]
  },
  {
   "cell_type": "markdown",
   "id": "703bc581",
   "metadata": {},
   "source": [
    "## LOad the data"
   ]
  },
  {
   "cell_type": "code",
   "execution_count": 2,
   "id": "196847ef",
   "metadata": {},
   "outputs": [],
   "source": [
    "df =pd.read_csv('./salary_Data.csv')"
   ]
  },
  {
   "cell_type": "code",
   "execution_count": 3,
   "id": "8fc6b5f5",
   "metadata": {},
   "outputs": [
    {
     "data": {
      "text/html": [
       "<div>\n",
       "<style scoped>\n",
       "    .dataframe tbody tr th:only-of-type {\n",
       "        vertical-align: middle;\n",
       "    }\n",
       "\n",
       "    .dataframe tbody tr th {\n",
       "        vertical-align: top;\n",
       "    }\n",
       "\n",
       "    .dataframe thead th {\n",
       "        text-align: right;\n",
       "    }\n",
       "</style>\n",
       "<table border=\"1\" class=\"dataframe\">\n",
       "  <thead>\n",
       "    <tr style=\"text-align: right;\">\n",
       "      <th></th>\n",
       "      <th>YearsExperience</th>\n",
       "      <th>Salary</th>\n",
       "    </tr>\n",
       "  </thead>\n",
       "  <tbody>\n",
       "    <tr>\n",
       "      <th>0</th>\n",
       "      <td>1.1</td>\n",
       "      <td>39343.0</td>\n",
       "    </tr>\n",
       "    <tr>\n",
       "      <th>1</th>\n",
       "      <td>1.3</td>\n",
       "      <td>46205.0</td>\n",
       "    </tr>\n",
       "    <tr>\n",
       "      <th>2</th>\n",
       "      <td>1.5</td>\n",
       "      <td>37731.0</td>\n",
       "    </tr>\n",
       "    <tr>\n",
       "      <th>3</th>\n",
       "      <td>2.0</td>\n",
       "      <td>43525.0</td>\n",
       "    </tr>\n",
       "    <tr>\n",
       "      <th>4</th>\n",
       "      <td>2.2</td>\n",
       "      <td>39891.0</td>\n",
       "    </tr>\n",
       "  </tbody>\n",
       "</table>\n",
       "</div>"
      ],
      "text/plain": [
       "   YearsExperience   Salary\n",
       "0              1.1  39343.0\n",
       "1              1.3  46205.0\n",
       "2              1.5  37731.0\n",
       "3              2.0  43525.0\n",
       "4              2.2  39891.0"
      ]
     },
     "execution_count": 3,
     "metadata": {},
     "output_type": "execute_result"
    }
   ],
   "source": [
    "df.head()"
   ]
  },
  {
   "cell_type": "code",
   "execution_count": 4,
   "id": "dafdd7d9",
   "metadata": {},
   "outputs": [
    {
     "name": "stdout",
     "output_type": "stream",
     "text": [
      "<class 'pandas.core.frame.DataFrame'>\n",
      "RangeIndex: 30 entries, 0 to 29\n",
      "Data columns (total 2 columns):\n",
      " #   Column           Non-Null Count  Dtype  \n",
      "---  ------           --------------  -----  \n",
      " 0   YearsExperience  30 non-null     float64\n",
      " 1   Salary           30 non-null     float64\n",
      "dtypes: float64(2)\n",
      "memory usage: 608.0 bytes\n"
     ]
    }
   ],
   "source": [
    "df.info()## finding the information"
   ]
  },
  {
   "cell_type": "markdown",
   "id": "7bb3bf44",
   "metadata": {},
   "source": [
    "## finding the null values"
   ]
  },
  {
   "cell_type": "code",
   "execution_count": 5,
   "id": "6ccf1cea",
   "metadata": {},
   "outputs": [
    {
     "data": {
      "text/plain": [
       "YearsExperience    0\n",
       "Salary             0\n",
       "dtype: int64"
      ]
     },
     "execution_count": 5,
     "metadata": {},
     "output_type": "execute_result"
    }
   ],
   "source": [
    "df.isnull().sum()"
   ]
  },
  {
   "cell_type": "markdown",
   "id": "79e86f9b",
   "metadata": {},
   "source": [
    "## complete data visualization"
   ]
  },
  {
   "cell_type": "code",
   "execution_count": 6,
   "id": "f71dda59",
   "metadata": {},
   "outputs": [
    {
     "data": {
      "image/png": "[encoded data removed]",
      "text/plain": [
       "<Figure size 432x288 with 1 Axes>"
      ]
     },
     "metadata": {
      "needs_background": "light"
     },
     "output_type": "display_data"
    }
   ],
   "source": [
    "plt.title('Simple Linear Regression')\n",
    "plt.xlabel('Years of experience')\n",
    "plt.ylabel('salary')\n",
    "plt.scatter(df['YearsExperience'], df['Salary'] , color='r', marker='*')\n",
    "plt.show()"
   ]
  },
  {
   "cell_type": "code",
   "execution_count": 7,
   "id": "aa05d3f5",
   "metadata": {},
   "outputs": [
    {
     "data": {
      "text/plain": [
       "30"
      ]
     },
     "execution_count": 7,
     "metadata": {},
     "output_type": "execute_result"
    }
   ],
   "source": [
    "len(df)"
   ]
  },
  {
   "cell_type": "code",
   "execution_count": 8,
   "id": "e9b49d8e",
   "metadata": {},
   "outputs": [
    {
     "data": {
      "text/html": [
       "<div>\n",
       "<style scoped>\n",
       "    .dataframe tbody tr th:only-of-type {\n",
       "        vertical-align: middle;\n",
       "    }\n",
       "\n",
       "    .dataframe tbody tr th {\n",
       "        vertical-align: top;\n",
       "    }\n",
       "\n",
       "    .dataframe thead th {\n",
       "        text-align: right;\n",
       "    }\n",
       "</style>\n",
       "<table border=\"1\" class=\"dataframe\">\n",
       "  <thead>\n",
       "    <tr style=\"text-align: right;\">\n",
       "      <th></th>\n",
       "      <th>YearsExperience</th>\n",
       "      <th>Salary</th>\n",
       "    </tr>\n",
       "  </thead>\n",
       "  <tbody>\n",
       "    <tr>\n",
       "      <th>0</th>\n",
       "      <td>1.1</td>\n",
       "      <td>39343.0</td>\n",
       "    </tr>\n",
       "    <tr>\n",
       "      <th>1</th>\n",
       "      <td>1.3</td>\n",
       "      <td>46205.0</td>\n",
       "    </tr>\n",
       "    <tr>\n",
       "      <th>2</th>\n",
       "      <td>1.5</td>\n",
       "      <td>37731.0</td>\n",
       "    </tr>\n",
       "    <tr>\n",
       "      <th>3</th>\n",
       "      <td>2.0</td>\n",
       "      <td>43525.0</td>\n",
       "    </tr>\n",
       "    <tr>\n",
       "      <th>4</th>\n",
       "      <td>2.2</td>\n",
       "      <td>39891.0</td>\n",
       "    </tr>\n",
       "    <tr>\n",
       "      <th>5</th>\n",
       "      <td>2.9</td>\n",
       "      <td>56642.0</td>\n",
       "    </tr>\n",
       "    <tr>\n",
       "      <th>6</th>\n",
       "      <td>3.0</td>\n",
       "      <td>60150.0</td>\n",
       "    </tr>\n",
       "    <tr>\n",
       "      <th>7</th>\n",
       "      <td>3.2</td>\n",
       "      <td>54445.0</td>\n",
       "    </tr>\n",
       "    <tr>\n",
       "      <th>8</th>\n",
       "      <td>3.2</td>\n",
       "      <td>64445.0</td>\n",
       "    </tr>\n",
       "    <tr>\n",
       "      <th>9</th>\n",
       "      <td>3.7</td>\n",
       "      <td>57189.0</td>\n",
       "    </tr>\n",
       "    <tr>\n",
       "      <th>10</th>\n",
       "      <td>3.9</td>\n",
       "      <td>63218.0</td>\n",
       "    </tr>\n",
       "    <tr>\n",
       "      <th>11</th>\n",
       "      <td>4.0</td>\n",
       "      <td>55794.0</td>\n",
       "    </tr>\n",
       "    <tr>\n",
       "      <th>12</th>\n",
       "      <td>4.0</td>\n",
       "      <td>56957.0</td>\n",
       "    </tr>\n",
       "    <tr>\n",
       "      <th>13</th>\n",
       "      <td>4.1</td>\n",
       "      <td>57081.0</td>\n",
       "    </tr>\n",
       "    <tr>\n",
       "      <th>14</th>\n",
       "      <td>4.5</td>\n",
       "      <td>61111.0</td>\n",
       "    </tr>\n",
       "    <tr>\n",
       "      <th>15</th>\n",
       "      <td>4.9</td>\n",
       "      <td>67938.0</td>\n",
       "    </tr>\n",
       "    <tr>\n",
       "      <th>16</th>\n",
       "      <td>5.1</td>\n",
       "      <td>66029.0</td>\n",
       "    </tr>\n",
       "    <tr>\n",
       "      <th>17</th>\n",
       "      <td>5.3</td>\n",
       "      <td>83088.0</td>\n",
       "    </tr>\n",
       "    <tr>\n",
       "      <th>18</th>\n",
       "      <td>5.9</td>\n",
       "      <td>81363.0</td>\n",
       "    </tr>\n",
       "    <tr>\n",
       "      <th>19</th>\n",
       "      <td>6.0</td>\n",
       "      <td>93940.0</td>\n",
       "    </tr>\n",
       "    <tr>\n",
       "      <th>20</th>\n",
       "      <td>6.8</td>\n",
       "      <td>91738.0</td>\n",
       "    </tr>\n",
       "    <tr>\n",
       "      <th>21</th>\n",
       "      <td>7.1</td>\n",
       "      <td>98273.0</td>\n",
       "    </tr>\n",
       "    <tr>\n",
       "      <th>22</th>\n",
       "      <td>7.9</td>\n",
       "      <td>101302.0</td>\n",
       "    </tr>\n",
       "    <tr>\n",
       "      <th>23</th>\n",
       "      <td>8.2</td>\n",
       "      <td>113812.0</td>\n",
       "    </tr>\n",
       "    <tr>\n",
       "      <th>24</th>\n",
       "      <td>8.7</td>\n",
       "      <td>109431.0</td>\n",
       "    </tr>\n",
       "    <tr>\n",
       "      <th>25</th>\n",
       "      <td>9.0</td>\n",
       "      <td>105582.0</td>\n",
       "    </tr>\n",
       "    <tr>\n",
       "      <th>26</th>\n",
       "      <td>9.5</td>\n",
       "      <td>116969.0</td>\n",
       "    </tr>\n",
       "    <tr>\n",
       "      <th>27</th>\n",
       "      <td>9.6</td>\n",
       "      <td>112635.0</td>\n",
       "    </tr>\n",
       "    <tr>\n",
       "      <th>28</th>\n",
       "      <td>10.3</td>\n",
       "      <td>122391.0</td>\n",
       "    </tr>\n",
       "    <tr>\n",
       "      <th>29</th>\n",
       "      <td>10.5</td>\n",
       "      <td>121872.0</td>\n",
       "    </tr>\n",
       "  </tbody>\n",
       "</table>\n",
       "</div>"
      ],
      "text/plain": [
       "    YearsExperience    Salary\n",
       "0               1.1   39343.0\n",
       "1               1.3   46205.0\n",
       "2               1.5   37731.0\n",
       "3               2.0   43525.0\n",
       "4               2.2   39891.0\n",
       "5               2.9   56642.0\n",
       "6               3.0   60150.0\n",
       "7               3.2   54445.0\n",
       "8               3.2   64445.0\n",
       "9               3.7   57189.0\n",
       "10              3.9   63218.0\n",
       "11              4.0   55794.0\n",
       "12              4.0   56957.0\n",
       "13              4.1   57081.0\n",
       "14              4.5   61111.0\n",
       "15              4.9   67938.0\n",
       "16              5.1   66029.0\n",
       "17              5.3   83088.0\n",
       "18              5.9   81363.0\n",
       "19              6.0   93940.0\n",
       "20              6.8   91738.0\n",
       "21              7.1   98273.0\n",
       "22              7.9  101302.0\n",
       "23              8.2  113812.0\n",
       "24              8.7  109431.0\n",
       "25              9.0  105582.0\n",
       "26              9.5  116969.0\n",
       "27              9.6  112635.0\n",
       "28             10.3  122391.0\n",
       "29             10.5  121872.0"
      ]
     },
     "execution_count": 8,
     "metadata": {},
     "output_type": "execute_result"
    }
   ],
   "source": [
    "df"
   ]
  },
  {
   "cell_type": "markdown",
   "id": "9c5f24d0",
   "metadata": {},
   "source": [
    "## Represent independent variables with x and dependent variable with y"
   ]
  },
  {
   "cell_type": "code",
   "execution_count": 9,
   "id": "fb1cfdf4",
   "metadata": {},
   "outputs": [
    {
     "data": {
      "text/plain": [
       "(30,)"
      ]
     },
     "execution_count": 9,
     "metadata": {},
     "output_type": "execute_result"
    }
   ],
   "source": [
    "df['YearsExperience'].shape"
   ]
  },
  {
   "cell_type": "code",
   "execution_count": 10,
   "id": "ef939708",
   "metadata": {},
   "outputs": [],
   "source": [
    "x = df['YearsExperience'] # independent\n",
    "y = df['Salary']         # dependent"
   ]
  },
  {
   "cell_type": "code",
   "execution_count": 11,
   "id": "05badeb4",
   "metadata": {},
   "outputs": [],
   "source": [
    "x = x.values.reshape(-1,1)"
   ]
  },
  {
   "cell_type": "code",
   "execution_count": 12,
   "id": "85941778",
   "metadata": {},
   "outputs": [
    {
     "data": {
      "text/plain": [
       "array([[ 1.1],\n",
       "       [ 1.3],\n",
       "       [ 1.5],\n",
       "       [ 2. ],\n",
       "       [ 2.2],\n",
       "       [ 2.9],\n",
       "       [ 3. ],\n",
       "       [ 3.2],\n",
       "       [ 3.2],\n",
       "       [ 3.7],\n",
       "       [ 3.9],\n",
       "       [ 4. ],\n",
       "       [ 4. ],\n",
       "       [ 4.1],\n",
       "       [ 4.5],\n",
       "       [ 4.9],\n",
       "       [ 5.1],\n",
       "       [ 5.3],\n",
       "       [ 5.9],\n",
       "       [ 6. ],\n",
       "       [ 6.8],\n",
       "       [ 7.1],\n",
       "       [ 7.9],\n",
       "       [ 8.2],\n",
       "       [ 8.7],\n",
       "       [ 9. ],\n",
       "       [ 9.5],\n",
       "       [ 9.6],\n",
       "       [10.3],\n",
       "       [10.5]])"
      ]
     },
     "execution_count": 12,
     "metadata": {},
     "output_type": "execute_result"
    }
   ],
   "source": [
    "x"
   ]
  },
  {
   "cell_type": "markdown",
   "id": "7705b00f",
   "metadata": {},
   "source": [
    "# spliting the data into train and test"
   ]
  },
  {
   "cell_type": "markdown",
   "id": "9ed95e92",
   "metadata": {},
   "source": [
    "## import sklearn --> scikit learn"
   ]
  },
  {
   "cell_type": "code",
   "execution_count": 13,
   "id": "8500974b",
   "metadata": {},
   "outputs": [],
   "source": [
    "import sklearn"
   ]
  },
  {
   "cell_type": "code",
   "execution_count": 14,
   "id": "522cf25b",
   "metadata": {},
   "outputs": [],
   "source": [
    "# for spliting the data sklearn providing a methods called train_test_split"
   ]
  },
  {
   "cell_type": "code",
   "execution_count": 15,
   "id": "bfa3fa52",
   "metadata": {},
   "outputs": [],
   "source": [
    "from sklearn.model_selection import train_test_split"
   ]
  },
  {
   "cell_type": "code",
   "execution_count": 16,
   "id": "d24469c8",
   "metadata": {},
   "outputs": [],
   "source": [
    "x_train, x_test, y_train, y_test= train_test_split(x, y, test_size=0.33, random_state=0)"
   ]
  },
  {
   "cell_type": "code",
   "execution_count": 17,
   "id": "0ecfea00",
   "metadata": {},
   "outputs": [
    {
     "data": {
      "text/plain": [
       "array([[ 2.9],\n",
       "       [ 5.1],\n",
       "       [ 3.2],\n",
       "       [ 4.5],\n",
       "       [ 8.2],\n",
       "       [ 6.8],\n",
       "       [ 1.3],\n",
       "       [10.5],\n",
       "       [ 3. ],\n",
       "       [ 2.2],\n",
       "       [ 5.9],\n",
       "       [ 6. ],\n",
       "       [ 3.7],\n",
       "       [ 3.2],\n",
       "       [ 9. ],\n",
       "       [ 2. ],\n",
       "       [ 1.1],\n",
       "       [ 7.1],\n",
       "       [ 4.9],\n",
       "       [ 4. ]])"
      ]
     },
     "execution_count": 17,
     "metadata": {},
     "output_type": "execute_result"
    }
   ],
   "source": [
    "x_train"
   ]
  },
  {
   "cell_type": "code",
   "execution_count": 18,
   "id": "eb4212e4",
   "metadata": {},
   "outputs": [
    {
     "data": {
      "text/plain": [
       "5      56642.0\n",
       "16     66029.0\n",
       "8      64445.0\n",
       "14     61111.0\n",
       "23    113812.0\n",
       "20     91738.0\n",
       "1      46205.0\n",
       "29    121872.0\n",
       "6      60150.0\n",
       "4      39891.0\n",
       "18     81363.0\n",
       "19     93940.0\n",
       "9      57189.0\n",
       "7      54445.0\n",
       "25    105582.0\n",
       "3      43525.0\n",
       "0      39343.0\n",
       "21     98273.0\n",
       "15     67938.0\n",
       "12     56957.0\n",
       "Name: Salary, dtype: float64"
      ]
     },
     "execution_count": 18,
     "metadata": {},
     "output_type": "execute_result"
    }
   ],
   "source": [
    "y_train"
   ]
  },
  {
   "cell_type": "code",
   "execution_count": 19,
   "id": "26ae9d01",
   "metadata": {},
   "outputs": [
    {
     "data": {
      "text/plain": [
       "(20, 20)"
      ]
     },
     "execution_count": 19,
     "metadata": {},
     "output_type": "execute_result"
    }
   ],
   "source": [
    "len(x_train),len(y_train)"
   ]
  },
  {
   "cell_type": "markdown",
   "id": "9d344617",
   "metadata": {},
   "source": [
    "## plot Training data"
   ]
  },
  {
   "cell_type": "code",
   "execution_count": 20,
   "id": "6a8027a8",
   "metadata": {},
   "outputs": [
    {
     "data": {
      "image/png": "[encoded data removed]",
      "text/plain": [
       "<Figure size 432x288 with 1 Axes>"
      ]
     },
     "metadata": {
      "needs_background": "light"
     },
     "output_type": "display_data"
    }
   ],
   "source": [
    "plt.title('Simple Linear Regression')\n",
    "plt.xlabel('x_train')\n",
    "plt.ylabel('y_train')\n",
    "plt.scatter(x_train, y_train, color='r', marker='*')\n",
    "plt.show()"
   ]
  },
  {
   "cell_type": "markdown",
   "id": "76668593",
   "metadata": {},
   "source": [
    "## Feeding to the algorithem"
   ]
  },
  {
   "cell_type": "code",
   "execution_count": 21,
   "id": "c794c8ef",
   "metadata": {},
   "outputs": [],
   "source": [
    "# simple linear regression y = mx + c"
   ]
  },
  {
   "cell_type": "code",
   "execution_count": 22,
   "id": "df633d16",
   "metadata": {},
   "outputs": [],
   "source": [
    "from sklearn.linear_model import LinearRegression"
   ]
  },
  {
   "cell_type": "code",
   "execution_count": 23,
   "id": "39eef64a",
   "metadata": {},
   "outputs": [],
   "source": [
    "reg = LinearRegression()"
   ]
  },
  {
   "cell_type": "code",
   "execution_count": 24,
   "id": "342e3cb8",
   "metadata": {},
   "outputs": [],
   "source": [
    "## reg is nothing but linear regression"
   ]
  },
  {
   "cell_type": "code",
   "execution_count": 25,
   "id": "6a8ad726",
   "metadata": {},
   "outputs": [
    {
     "data": {
      "text/plain": [
       "LinearRegression()"
      ]
     },
     "execution_count": 25,
     "metadata": {},
     "output_type": "execute_result"
    }
   ],
   "source": [
    "# giving data to y =mx +c\n",
    "\n",
    "\n",
    "reg.fit(x_train,y_train)"
   ]
  },
  {
   "cell_type": "code",
   "execution_count": 26,
   "id": "830b45f0",
   "metadata": {},
   "outputs": [],
   "source": [
    "# m and c"
   ]
  },
  {
   "cell_type": "code",
   "execution_count": 27,
   "id": "70e75021",
   "metadata": {},
   "outputs": [
    {
     "data": {
      "text/plain": [
       "array([9345.94244312])"
      ]
     },
     "execution_count": 27,
     "metadata": {},
     "output_type": "execute_result"
    }
   ],
   "source": [
    "# coef\n",
    "reg.coef_"
   ]
  },
  {
   "cell_type": "code",
   "execution_count": 28,
   "id": "15dca1a0",
   "metadata": {},
   "outputs": [
    {
     "data": {
      "text/plain": [
       "26816.192244031176"
      ]
     },
     "execution_count": 28,
     "metadata": {},
     "output_type": "execute_result"
    }
   ],
   "source": [
    "# intercept\n",
    "reg.intercept_"
   ]
  },
  {
   "cell_type": "code",
   "execution_count": 29,
   "id": "d2f755c5",
   "metadata": {},
   "outputs": [],
   "source": [
    "# y = mx + c ---> model = y =9345.94244312 * x + 26816.192244031176 is our "
   ]
  },
  {
   "cell_type": "markdown",
   "id": "02eace01",
   "metadata": {},
   "source": [
    " y =9345.94244312 * x + 26816.192244031176 is our model  to the do predictions"
   ]
  },
  {
   "cell_type": "code",
   "execution_count": 30,
   "id": "1741a232",
   "metadata": {},
   "outputs": [],
   "source": [
    "## checking performance of training data"
   ]
  },
  {
   "cell_type": "code",
   "execution_count": 31,
   "id": "a0207717",
   "metadata": {},
   "outputs": [],
   "source": [
    "y_train_predictions = reg.predict(x_train)"
   ]
  },
  {
   "cell_type": "code",
   "execution_count": 32,
   "id": "3ccaf0a2",
   "metadata": {},
   "outputs": [
    {
     "data": {
      "text/plain": [
       "array([ 53919.42532909,  74480.49870396,  56723.20806202,  68872.93323808,\n",
       "       103452.92027763,  90368.60085726,  38965.91742009, 124948.58789682,\n",
       "        54854.0195734 ,  47377.2656189 ,  81957.25265845,  82891.84690277,\n",
       "        61396.17928358,  56723.20806202, 110929.67423213,  45508.07713028,\n",
       "        37096.72893147,  93172.3835902 ,  72611.31021533,  64199.96201652])"
      ]
     },
     "execution_count": 32,
     "metadata": {},
     "output_type": "execute_result"
    }
   ],
   "source": [
    "y_train_predictions"
   ]
  },
  {
   "cell_type": "code",
   "execution_count": 33,
   "id": "2eaaf5ad",
   "metadata": {},
   "outputs": [
    {
     "data": {
      "text/plain": [
       "5      56642.0\n",
       "16     66029.0\n",
       "8      64445.0\n",
       "14     61111.0\n",
       "23    113812.0\n",
       "20     91738.0\n",
       "1      46205.0\n",
       "29    121872.0\n",
       "6      60150.0\n",
       "4      39891.0\n",
       "18     81363.0\n",
       "19     93940.0\n",
       "9      57189.0\n",
       "7      54445.0\n",
       "25    105582.0\n",
       "3      43525.0\n",
       "0      39343.0\n",
       "21     98273.0\n",
       "15     67938.0\n",
       "12     56957.0\n",
       "Name: Salary, dtype: float64"
      ]
     },
     "execution_count": 33,
     "metadata": {},
     "output_type": "execute_result"
    }
   ],
   "source": [
    "y_train"
   ]
  },
  {
   "cell_type": "code",
   "execution_count": 34,
   "id": "40e584a9",
   "metadata": {},
   "outputs": [
    {
     "data": {
      "text/plain": [
       "array([[ 2.9],\n",
       "       [ 5.1],\n",
       "       [ 3.2],\n",
       "       [ 4.5],\n",
       "       [ 8.2],\n",
       "       [ 6.8],\n",
       "       [ 1.3],\n",
       "       [10.5],\n",
       "       [ 3. ],\n",
       "       [ 2.2],\n",
       "       [ 5.9],\n",
       "       [ 6. ],\n",
       "       [ 3.7],\n",
       "       [ 3.2],\n",
       "       [ 9. ],\n",
       "       [ 2. ],\n",
       "       [ 1.1],\n",
       "       [ 7.1],\n",
       "       [ 4.9],\n",
       "       [ 4. ]])"
      ]
     },
     "execution_count": 34,
     "metadata": {},
     "output_type": "execute_result"
    }
   ],
   "source": [
    "x_train"
   ]
  },
  {
   "cell_type": "code",
   "execution_count": 35,
   "id": "7514c8cb",
   "metadata": {},
   "outputs": [
    {
     "data": {
      "text/plain": [
       "(20, 1)"
      ]
     },
     "execution_count": 35,
     "metadata": {},
     "output_type": "execute_result"
    }
   ],
   "source": [
    "x_train.shape"
   ]
  },
  {
   "cell_type": "code",
   "execution_count": 36,
   "id": "50570324",
   "metadata": {},
   "outputs": [
    {
     "data": {
      "text/plain": [
       "(20,)"
      ]
     },
     "execution_count": 36,
     "metadata": {},
     "output_type": "execute_result"
    }
   ],
   "source": [
    "x_train_1 = x_train.flatten() ## convert to any dimension to normal values\n",
    "x_train_1.shape"
   ]
  },
  {
   "cell_type": "code",
   "execution_count": 37,
   "id": "a6f3c606",
   "metadata": {},
   "outputs": [],
   "source": [
    "train_data_comparision = pd.DataFrame({'x_train':x_train_1,'y_train_Actual':y_train,'y_train_predictions': y_train_predictions})"
   ]
  },
  {
   "cell_type": "code",
   "execution_count": 38,
   "id": "e77ad7fc",
   "metadata": {},
   "outputs": [
    {
     "data": {
      "text/html": [
       "<div>\n",
       "<style scoped>\n",
       "    .dataframe tbody tr th:only-of-type {\n",
       "        vertical-align: middle;\n",
       "    }\n",
       "\n",
       "    .dataframe tbody tr th {\n",
       "        vertical-align: top;\n",
       "    }\n",
       "\n",
       "    .dataframe thead th {\n",
       "        text-align: right;\n",
       "    }\n",
       "</style>\n",
       "<table border=\"1\" class=\"dataframe\">\n",
       "  <thead>\n",
       "    <tr style=\"text-align: right;\">\n",
       "      <th></th>\n",
       "      <th>x_train</th>\n",
       "      <th>y_train_Actual</th>\n",
       "      <th>y_train_predictions</th>\n",
       "    </tr>\n",
       "  </thead>\n",
       "  <tbody>\n",
       "    <tr>\n",
       "      <th>5</th>\n",
       "      <td>2.9</td>\n",
       "      <td>56642.0</td>\n",
       "      <td>53919.425329</td>\n",
       "    </tr>\n",
       "    <tr>\n",
       "      <th>16</th>\n",
       "      <td>5.1</td>\n",
       "      <td>66029.0</td>\n",
       "      <td>74480.498704</td>\n",
       "    </tr>\n",
       "    <tr>\n",
       "      <th>8</th>\n",
       "      <td>3.2</td>\n",
       "      <td>64445.0</td>\n",
       "      <td>56723.208062</td>\n",
       "    </tr>\n",
       "    <tr>\n",
       "      <th>14</th>\n",
       "      <td>4.5</td>\n",
       "      <td>61111.0</td>\n",
       "      <td>68872.933238</td>\n",
       "    </tr>\n",
       "    <tr>\n",
       "      <th>23</th>\n",
       "      <td>8.2</td>\n",
       "      <td>113812.0</td>\n",
       "      <td>103452.920278</td>\n",
       "    </tr>\n",
       "    <tr>\n",
       "      <th>20</th>\n",
       "      <td>6.8</td>\n",
       "      <td>91738.0</td>\n",
       "      <td>90368.600857</td>\n",
       "    </tr>\n",
       "    <tr>\n",
       "      <th>1</th>\n",
       "      <td>1.3</td>\n",
       "      <td>46205.0</td>\n",
       "      <td>38965.917420</td>\n",
       "    </tr>\n",
       "    <tr>\n",
       "      <th>29</th>\n",
       "      <td>10.5</td>\n",
       "      <td>121872.0</td>\n",
       "      <td>124948.587897</td>\n",
       "    </tr>\n",
       "    <tr>\n",
       "      <th>6</th>\n",
       "      <td>3.0</td>\n",
       "      <td>60150.0</td>\n",
       "      <td>54854.019573</td>\n",
       "    </tr>\n",
       "    <tr>\n",
       "      <th>4</th>\n",
       "      <td>2.2</td>\n",
       "      <td>39891.0</td>\n",
       "      <td>47377.265619</td>\n",
       "    </tr>\n",
       "    <tr>\n",
       "      <th>18</th>\n",
       "      <td>5.9</td>\n",
       "      <td>81363.0</td>\n",
       "      <td>81957.252658</td>\n",
       "    </tr>\n",
       "    <tr>\n",
       "      <th>19</th>\n",
       "      <td>6.0</td>\n",
       "      <td>93940.0</td>\n",
       "      <td>82891.846903</td>\n",
       "    </tr>\n",
       "    <tr>\n",
       "      <th>9</th>\n",
       "      <td>3.7</td>\n",
       "      <td>57189.0</td>\n",
       "      <td>61396.179284</td>\n",
       "    </tr>\n",
       "    <tr>\n",
       "      <th>7</th>\n",
       "      <td>3.2</td>\n",
       "      <td>54445.0</td>\n",
       "      <td>56723.208062</td>\n",
       "    </tr>\n",
       "    <tr>\n",
       "      <th>25</th>\n",
       "      <td>9.0</td>\n",
       "      <td>105582.0</td>\n",
       "      <td>110929.674232</td>\n",
       "    </tr>\n",
       "    <tr>\n",
       "      <th>3</th>\n",
       "      <td>2.0</td>\n",
       "      <td>43525.0</td>\n",
       "      <td>45508.077130</td>\n",
       "    </tr>\n",
       "    <tr>\n",
       "      <th>0</th>\n",
       "      <td>1.1</td>\n",
       "      <td>39343.0</td>\n",
       "      <td>37096.728931</td>\n",
       "    </tr>\n",
       "    <tr>\n",
       "      <th>21</th>\n",
       "      <td>7.1</td>\n",
       "      <td>98273.0</td>\n",
       "      <td>93172.383590</td>\n",
       "    </tr>\n",
       "    <tr>\n",
       "      <th>15</th>\n",
       "      <td>4.9</td>\n",
       "      <td>67938.0</td>\n",
       "      <td>72611.310215</td>\n",
       "    </tr>\n",
       "    <tr>\n",
       "      <th>12</th>\n",
       "      <td>4.0</td>\n",
       "      <td>56957.0</td>\n",
       "      <td>64199.962017</td>\n",
       "    </tr>\n",
       "  </tbody>\n",
       "</table>\n",
       "</div>"
      ],
      "text/plain": [
       "    x_train  y_train_Actual  y_train_predictions\n",
       "5       2.9         56642.0         53919.425329\n",
       "16      5.1         66029.0         74480.498704\n",
       "8       3.2         64445.0         56723.208062\n",
       "14      4.5         61111.0         68872.933238\n",
       "23      8.2        113812.0        103452.920278\n",
       "20      6.8         91738.0         90368.600857\n",
       "1       1.3         46205.0         38965.917420\n",
       "29     10.5        121872.0        124948.587897\n",
       "6       3.0         60150.0         54854.019573\n",
       "4       2.2         39891.0         47377.265619\n",
       "18      5.9         81363.0         81957.252658\n",
       "19      6.0         93940.0         82891.846903\n",
       "9       3.7         57189.0         61396.179284\n",
       "7       3.2         54445.0         56723.208062\n",
       "25      9.0        105582.0        110929.674232\n",
       "3       2.0         43525.0         45508.077130\n",
       "0       1.1         39343.0         37096.728931\n",
       "21      7.1         98273.0         93172.383590\n",
       "15      4.9         67938.0         72611.310215\n",
       "12      4.0         56957.0         64199.962017"
      ]
     },
     "execution_count": 38,
     "metadata": {},
     "output_type": "execute_result"
    }
   ],
   "source": [
    "train_data_comparision"
   ]
  },
  {
   "cell_type": "code",
   "execution_count": 39,
   "id": "76231050",
   "metadata": {},
   "outputs": [],
   "source": [
    "## Difference between Actual and prediction is called residual\n",
    "#m Residual formula = (y - y_pred)**2"
   ]
  },
  {
   "cell_type": "code",
   "execution_count": 40,
   "id": "5996e40f",
   "metadata": {},
   "outputs": [
    {
     "data": {
      "image/png": "[encoded data removed]",
      "text/plain": [
       "<Figure size 432x288 with 1 Axes>"
      ]
     },
     "metadata": {
      "needs_background": "light"
     },
     "output_type": "display_data"
    }
   ],
   "source": [
    "plt.title('Simple Linear Regression')\n",
    "plt.xlabel('x_train')\n",
    "plt.ylabel('y_train')\n",
    "plt.scatter(x_train, y_train, color='r', marker='*')\n",
    "plt.plot(x_train,y_train_predictions,color = 'b',marker ='o')\n",
    "plt.show()"
   ]
  },
  {
   "cell_type": "markdown",
   "id": "27d806d5",
   "metadata": {},
   "source": [
    "## finding the accuracy for training data"
   ]
  },
  {
   "cell_type": "code",
   "execution_count": 41,
   "id": "3114ed8f",
   "metadata": {},
   "outputs": [],
   "source": [
    " from sklearn.metrics import r2_score"
   ]
  },
  {
   "cell_type": "code",
   "execution_count": 42,
   "id": "ac1ecba0",
   "metadata": {},
   "outputs": [
    {
     "data": {
      "text/plain": [
       "0.9381900012894278"
      ]
     },
     "execution_count": 42,
     "metadata": {},
     "output_type": "execute_result"
    }
   ],
   "source": [
    "r2_score(y_train, y_train_predictions)"
   ]
  },
  {
   "cell_type": "code",
   "execution_count": 43,
   "id": "de9a5791",
   "metadata": {},
   "outputs": [
    {
     "data": {
      "text/plain": [
       "93.81900012894278"
      ]
     },
     "execution_count": 43,
     "metadata": {},
     "output_type": "execute_result"
    }
   ],
   "source": [
    "0.9381900012894278 * 100"
   ]
  },
  {
   "cell_type": "markdown",
   "id": "6652152c",
   "metadata": {},
   "source": [
    "## test data"
   ]
  },
  {
   "cell_type": "code",
   "execution_count": 44,
   "id": "73f9fb70",
   "metadata": {},
   "outputs": [],
   "source": [
    "## based on the accurancy we will decide model performance"
   ]
  },
  {
   "cell_type": "code",
   "execution_count": 45,
   "id": "95d30cc0",
   "metadata": {},
   "outputs": [
    {
     "data": {
      "text/plain": [
       "array([[ 1.5],\n",
       "       [10.3],\n",
       "       [ 4.1],\n",
       "       [ 3.9],\n",
       "       [ 9.5],\n",
       "       [ 8.7],\n",
       "       [ 9.6],\n",
       "       [ 4. ],\n",
       "       [ 5.3],\n",
       "       [ 7.9]])"
      ]
     },
     "execution_count": 45,
     "metadata": {},
     "output_type": "execute_result"
    }
   ],
   "source": [
    "x_test"
   ]
  },
  {
   "cell_type": "code",
   "execution_count": 46,
   "id": "84379f53",
   "metadata": {},
   "outputs": [
    {
     "data": {
      "text/plain": [
       "2      37731.0\n",
       "28    122391.0\n",
       "13     57081.0\n",
       "10     63218.0\n",
       "26    116969.0\n",
       "24    109431.0\n",
       "27    112635.0\n",
       "11     55794.0\n",
       "17     83088.0\n",
       "22    101302.0\n",
       "Name: Salary, dtype: float64"
      ]
     },
     "execution_count": 46,
     "metadata": {},
     "output_type": "execute_result"
    }
   ],
   "source": [
    "y_test"
   ]
  },
  {
   "cell_type": "code",
   "execution_count": 47,
   "id": "a216753c",
   "metadata": {},
   "outputs": [],
   "source": [
    "y_test_pred = reg.predict(x_test)"
   ]
  },
  {
   "cell_type": "code",
   "execution_count": 48,
   "id": "f9307475",
   "metadata": {},
   "outputs": [],
   "source": [
    "test_data_comparision = pd.DataFrame({'x_test':x_test.flatten(),'y_test_Actual':y_test,'y_test_predictions': y_test_pred})"
   ]
  },
  {
   "cell_type": "code",
   "execution_count": 49,
   "id": "87c7ed64",
   "metadata": {},
   "outputs": [
    {
     "data": {
      "text/html": [
       "<div>\n",
       "<style scoped>\n",
       "    .dataframe tbody tr th:only-of-type {\n",
       "        vertical-align: middle;\n",
       "    }\n",
       "\n",
       "    .dataframe tbody tr th {\n",
       "        vertical-align: top;\n",
       "    }\n",
       "\n",
       "    .dataframe thead th {\n",
       "        text-align: right;\n",
       "    }\n",
       "</style>\n",
       "<table border=\"1\" class=\"dataframe\">\n",
       "  <thead>\n",
       "    <tr style=\"text-align: right;\">\n",
       "      <th></th>\n",
       "      <th>x_test</th>\n",
       "      <th>y_test_Actual</th>\n",
       "      <th>y_test_predictions</th>\n",
       "    </tr>\n",
       "  </thead>\n",
       "  <tbody>\n",
       "    <tr>\n",
       "      <th>2</th>\n",
       "      <td>1.5</td>\n",
       "      <td>37731.0</td>\n",
       "      <td>40835.105909</td>\n",
       "    </tr>\n",
       "    <tr>\n",
       "      <th>28</th>\n",
       "      <td>10.3</td>\n",
       "      <td>122391.0</td>\n",
       "      <td>123079.399408</td>\n",
       "    </tr>\n",
       "    <tr>\n",
       "      <th>13</th>\n",
       "      <td>4.1</td>\n",
       "      <td>57081.0</td>\n",
       "      <td>65134.556261</td>\n",
       "    </tr>\n",
       "    <tr>\n",
       "      <th>10</th>\n",
       "      <td>3.9</td>\n",
       "      <td>63218.0</td>\n",
       "      <td>63265.367772</td>\n",
       "    </tr>\n",
       "    <tr>\n",
       "      <th>26</th>\n",
       "      <td>9.5</td>\n",
       "      <td>116969.0</td>\n",
       "      <td>115602.645454</td>\n",
       "    </tr>\n",
       "    <tr>\n",
       "      <th>24</th>\n",
       "      <td>8.7</td>\n",
       "      <td>109431.0</td>\n",
       "      <td>108125.891499</td>\n",
       "    </tr>\n",
       "    <tr>\n",
       "      <th>27</th>\n",
       "      <td>9.6</td>\n",
       "      <td>112635.0</td>\n",
       "      <td>116537.239698</td>\n",
       "    </tr>\n",
       "    <tr>\n",
       "      <th>11</th>\n",
       "      <td>4.0</td>\n",
       "      <td>55794.0</td>\n",
       "      <td>64199.962017</td>\n",
       "    </tr>\n",
       "    <tr>\n",
       "      <th>17</th>\n",
       "      <td>5.3</td>\n",
       "      <td>83088.0</td>\n",
       "      <td>76349.687193</td>\n",
       "    </tr>\n",
       "    <tr>\n",
       "      <th>22</th>\n",
       "      <td>7.9</td>\n",
       "      <td>101302.0</td>\n",
       "      <td>100649.137545</td>\n",
       "    </tr>\n",
       "  </tbody>\n",
       "</table>\n",
       "</div>"
      ],
      "text/plain": [
       "    x_test  y_test_Actual  y_test_predictions\n",
       "2      1.5        37731.0        40835.105909\n",
       "28    10.3       122391.0       123079.399408\n",
       "13     4.1        57081.0        65134.556261\n",
       "10     3.9        63218.0        63265.367772\n",
       "26     9.5       116969.0       115602.645454\n",
       "24     8.7       109431.0       108125.891499\n",
       "27     9.6       112635.0       116537.239698\n",
       "11     4.0        55794.0        64199.962017\n",
       "17     5.3        83088.0        76349.687193\n",
       "22     7.9       101302.0       100649.137545"
      ]
     },
     "execution_count": 49,
     "metadata": {},
     "output_type": "execute_result"
    }
   ],
   "source": [
    "test_data_comparision"
   ]
  },
  {
   "cell_type": "code",
   "execution_count": 50,
   "id": "af89b5ca",
   "metadata": {},
   "outputs": [],
   "source": [
    "## Accuracy for the test data"
   ]
  },
  {
   "cell_type": "code",
   "execution_count": 51,
   "id": "7a3b86a5",
   "metadata": {},
   "outputs": [
    {
     "data": {
      "text/plain": [
       "0.9749154407708353"
      ]
     },
     "execution_count": 51,
     "metadata": {},
     "output_type": "execute_result"
    }
   ],
   "source": [
    "r2_score(y_test,y_test_pred)"
   ]
  },
  {
   "cell_type": "code",
   "execution_count": 52,
   "id": "03aa188c",
   "metadata": {},
   "outputs": [
    {
     "data": {
      "text/plain": [
       "97.49154407708353"
      ]
     },
     "execution_count": 52,
     "metadata": {},
     "output_type": "execute_result"
    }
   ],
   "source": [
    "0.9749154407708353 * 100"
   ]
  },
  {
   "cell_type": "code",
   "execution_count": 53,
   "id": "ba440e11",
   "metadata": {},
   "outputs": [
    {
     "data": {
      "image/png": "[encoded data removed]",
      "text/plain": [
       "<Figure size 432x288 with 1 Axes>"
      ]
     },
     "metadata": {
      "needs_background": "light"
     },
     "output_type": "display_data"
    }
   ],
   "source": [
    "plt.title('Simple Linear Regression')\n",
    "plt.xlabel('x_test')\n",
    "plt.ylabel('y_test')\n",
    "plt.scatter(x_test, y_test, color='r', marker='*') # actual\n",
    "plt.plot(x_test,y_test_pred,color = 'b',marker ='o') # pred\n",
    "plt.show()"
   ]
  },
  {
   "cell_type": "code",
   "execution_count": 54,
   "id": "1ef794ee",
   "metadata": {},
   "outputs": [],
   "source": [
    "## cheking with real data"
   ]
  },
  {
   "cell_type": "code",
   "execution_count": 55,
   "id": "d5274dc5",
   "metadata": {},
   "outputs": [
    {
     "data": {
      "text/plain": [
       "array([124948.58789682])"
      ]
     },
     "execution_count": 55,
     "metadata": {},
     "output_type": "execute_result"
    }
   ],
   "source": [
    "reg.predict([[10.5]])"
   ]
  },
  {
   "cell_type": "markdown",
   "id": "81d7cde5",
   "metadata": {},
   "source": [
    "## finding the loss"
   ]
  },
  {
   "cell_type": "code",
   "execution_count": 56,
   "id": "0fec714e",
   "metadata": {},
   "outputs": [
    {
     "data": {
      "text/plain": [
       "0.02508455922916475"
      ]
     },
     "execution_count": 56,
     "metadata": {},
     "output_type": "execute_result"
    }
   ],
   "source": [
    "1-r2_score(y_test,y_test_pred) ## loss = 1 -accuracy"
   ]
  },
  {
   "cell_type": "code",
   "execution_count": 57,
   "id": "81b40523",
   "metadata": {},
   "outputs": [
    {
     "data": {
      "text/plain": [
       "1.0"
      ]
     },
     "execution_count": 57,
     "metadata": {},
     "output_type": "execute_result"
    }
   ],
   "source": [
    "0.9749154407708353 + 0.02508455922916475"
   ]
  },
  {
   "cell_type": "markdown",
   "id": "18b3d1d9",
   "metadata": {},
   "source": [
    "y =9345.94244312 * x + 26816.192244031176 is our model to the do predictions"
   ]
  },
  {
   "cell_type": "markdown",
   "id": "41989d7b",
   "metadata": {},
   "source": [
    "# for better understanding about models"
   ]
  },
  {
   "cell_type": "code",
   "execution_count": 58,
   "id": "df1cdd41",
   "metadata": {},
   "outputs": [],
   "source": [
    "## Loss funtion or cost function or error function"
   ]
  },
  {
   "cell_type": "code",
   "execution_count": 59,
   "id": "6d5949f4",
   "metadata": {},
   "outputs": [],
   "source": [
    "from sklearn.metrics import mean_squared_error"
   ]
  },
  {
   "cell_type": "code",
   "execution_count": 60,
   "id": "05b23d29",
   "metadata": {},
   "outputs": [
    {
     "data": {
      "text/plain": [
       "21026037.329511303"
      ]
     },
     "execution_count": 60,
     "metadata": {},
     "output_type": "execute_result"
    }
   ],
   "source": [
    "mean_squared_error(y_test, y_test_pred)"
   ]
  },
  {
   "cell_type": "markdown",
   "id": "19a5073c",
   "metadata": {},
   "source": [
    "## Gradient descent manually"
   ]
  },
  {
   "cell_type": "code",
   "execution_count": 61,
   "id": "3f968b2f",
   "metadata": {},
   "outputs": [
    {
     "data": {
      "text/plain": [
       "2      37731.0\n",
       "28    122391.0\n",
       "13     57081.0\n",
       "10     63218.0\n",
       "26    116969.0\n",
       "24    109431.0\n",
       "27    112635.0\n",
       "11     55794.0\n",
       "17     83088.0\n",
       "22    101302.0\n",
       "Name: Salary, dtype: float64"
      ]
     },
     "execution_count": 61,
     "metadata": {},
     "output_type": "execute_result"
    }
   ],
   "source": [
    "y_test"
   ]
  },
  {
   "cell_type": "code",
   "execution_count": 80,
   "id": "793e9d73",
   "metadata": {},
   "outputs": [],
   "source": [
    "def grad_des(x_test,y_test):\n",
    "    m = 0\n",
    "    c = 0\n",
    "    learning_rate = 0.01\n",
    "    n = len(x_test)\n",
    "    plt.scatter(x_test,y_test,color ='r')\n",
    "    for i in range(500):\n",
    "        y_predictions = m * x_test + c\n",
    "        plt.plot(x_test,y_predictions,color = 'b')\n",
    "        acc = r2_score(y_test,y_predictions) ## acc\n",
    "        # cost function formula =1/n *(y - y_pre)**2\n",
    "        cost_fun = (1/n) * sum([ j**2 for j in (y_test - y_predictions)])\n",
    "        ## Derivative of slope\n",
    "        print('slope:',m,'Intercept:',c,'cost_fun:',cost_fun,'acc:',acc)\n",
    "        d_s = -(2/n) * sum(x_test*(y_test - y_predictions))\n",
    "        d_c = -(2/n) * sum(y_test - y_predictions)\n",
    "     \n",
    "\n",
    "        ## step_size\n",
    "        \n",
    "        # updating mean and intercept\n",
    "        m = m -  learning_rate * d_s\n",
    "        c = c -  learning_rate * d_c\n",
    "        \n",
    "    \n",
    "    \n",
    "    \n",
    "    "
   ]
  },
  {
   "cell_type": "code",
   "execution_count": 81,
   "id": "86d18fd6",
   "metadata": {},
   "outputs": [
    {
     "name": "stdout",
     "output_type": "stream",
     "text": [
      "slope: 0 Intercept: 0 cost_fun: 8228015665.8 acc: -8.816217058530876\n",
      "slope: 12812.371000000001 Intercept: 1719.28 cost_fun: 94442053.15352875 acc: 0.8873283995967925\n",
      "slope: 12462.45359168 Intercept: 1743.6911183999998 cost_fun: 88210977.77766927 acc: 0.8947622197159909\n",
      "slope: 12462.761091425895 Intercept: 1812.963310550272 cost_fun: 87736184.13615133 acc: 0.8953286597463038\n",
      "slope: 12453.78036492574 Intercept: 1880.8102068904705 cost_fun: 87268577.81999935 acc: 0.8958865251276699\n",
      "slope: 12445.076495966932 Intercept: 1948.4640674582852 cost_fun: 86804068.58840491 acc: 0.8964406956139969\n",
      "slope: 12436.394898017414 Intercept: 2015.892872231805 cost_fun: 86342633.0857811 acc: 0.8969911990690517\n",
      "slope: 12427.742246370424 Intercept: 2083.098236004112 cost_fun: 85884250.97077876 acc: 0.8975380597605442\n",
      "slope: 12419.118265529873 Intercept: 2150.080876154423 cost_fun: 85428902.0386746 acc: 0.8980813017931869\n",
      "slope: 12410.522865256331 Intercept: 2216.841531418663 cost_fun: 84976566.21844442 acc: 0.8986209491121856\n",
      "slope: 12401.9559507048 Intercept: 2283.3809374530697 cost_fun: 84527223.57187712 acc: 0.8991570255042971\n",
      "slope: 12393.417427475091 Intercept: 2349.6998274926664 cost_fun: 84080854.29269566 acc: 0.8996895545988779\n",
      "slope: 12384.907201476399 Intercept: 2415.798932342041 cost_fun: 83637438.70568402 acc: 0.9002185598689255\n",
      "slope: 12376.425178929825 Intercept: 2481.6789803838587 cost_fun: 83196957.26582015 acc: 0.9007440646321129\n",
      "slope: 12367.971266367267 Intercept: 2547.340697586876 cost_fun: 82759390.55741416 acc: 0.9012660920518166\n",
      "slope: 12359.545370630378 Intercept: 2612.784807513941 cost_fun: 82324719.29325283 acc: 0.9017846651381379\n",
      "slope: 12351.14739886954 Intercept: 2678.012031329965 cost_fun: 81892924.31374931 acc: 0.9022998067489163\n",
      "slope: 12342.77725854285 Intercept: 2743.0230878098732 cost_fun: 81463986.58609849 acc: 0.902811539590738\n",
      "slope: 12334.434857415095 Intercept: 2807.8186933465227 cost_fun: 81037887.20343824 acc: 0.9033198862199362\n",
      "slope: 12326.120103556734 Intercept: 2872.3995619585958 cost_fun: 80614607.38401602 acc: 0.9038248690435853\n",
      "slope: 12317.832905342884 Intercept: 2936.766405298471 cost_fun: 80194128.47036086 acc: 0.9043265103204888\n",
      "slope: 12309.573171452315 Intercept: 3000.9199326600638 cost_fun: 79776431.92846094 acc: 0.9048248321621608\n",
      "slope: 12301.340810866448 Intercept: 3064.8608509866426 cost_fun: 79361499.34694704 acc: 0.9053198565337996\n",
      "slope: 12293.135732868335 Intercept: 3128.5898648786183 cost_fun: 78949312.43628058 acc: 0.9058116052552568\n",
      "slope: 12284.957847041676 Intercept: 3192.10767660131 cost_fun: 78539853.02794757 acc: 0.9063001000019989\n",
      "slope: 12276.807063269816 Intercept: 3255.4149860926823 cost_fun: 78133103.0736578 acc: 0.9067853623060622\n",
      "slope: 12268.683291734751 Intercept: 3318.5124909710603 cost_fun: 77729044.64454933 acc: 0.9072674135570029\n",
      "slope: 12260.586442916143 Intercept: 3381.4008865428154 cost_fun: 77327659.93039812 acc: 0.9077462750028387\n",
      "slope: 12252.516427590323 Intercept: 3444.080865810027 cost_fun: 76928931.23883311 acc: 0.9082219677509863\n",
      "slope: 12244.473156829325 Intercept: 3506.5531194781206 cost_fun: 76532840.99455628 acc: 0.9086945127691914\n",
      "slope: 12236.456541999889 Intercept: 3568.8183359634777 cost_fun: 76139371.73856786 acc: 0.9091639308864533\n",
      "slope: 12228.466494762495 Intercept: 3630.8772014010224 cost_fun: 75748506.12739713 acc: 0.9096302427939422\n",
      "slope: 12220.502927070384 Intercept: 3692.7303996517826 cost_fun: 75360226.93233754 acc: 0.9100934690459118\n",
      "slope: 12212.56575116859 Intercept: 3754.378612310425 cost_fun: 74974517.03868738 acc: 0.9105536300606059\n",
      "slope: 12204.654879592978 Intercept: 3815.8225187127673 cost_fun: 74591359.44499567 acc: 0.9110107461211568\n",
      "slope: 12196.770225169263 Intercept: 3877.0627959432622 cost_fun: 74210737.26231252 acc: 0.911464837376481\n",
      "slope: 12188.911701012074 Intercept: 3938.1001188424607 cost_fun: 73832633.7134447 acc: 0.9119159238421661\n",
      "slope: 12181.079220523978 Intercept: 3998.935160014447 cost_fun: 73457032.13221608 acc: 0.912364025401354\n",
      "slope: 12173.27269739453 Intercept: 4059.5685898342504 cost_fun: 73083915.96273337 acc: 0.9128091618056164\n",
      "slope: 12165.492045599327 Intercept: 4120.001076455234 cost_fun: 72713268.75865576 acc: 0.9132513526758267\n",
      "slope: 12157.737179399057 Intercept: 4180.233285816457 cost_fun: 72345074.18247077 acc: 0.9136906175030229\n",
      "slope: 12150.008013338547 Intercept: 4240.265881650011 cost_fun: 71979316.00477317 acc: 0.914126975649269\n",
      "slope: 12142.30446224584 Intercept: 4300.099525488335 cost_fun: 71615978.10355046 acc: 0.9145604463485068\n",
      "slope: 12134.626441231234 Intercept: 4359.734876671507 cost_fun: 71255044.46347187 acc: 0.914991048707404\n",
      "slope: 12126.97386568636 Intercept: 4419.172592354509 cost_fun: 70896499.1751824 acc: 0.9154188017061972\n",
      "slope: 12119.346651283247 Intercept: 4478.413327514467 cost_fun: 70540326.43460166 acc: 0.9158437241995274\n",
      "slope: 12111.744713973396 Intercept: 4537.4577349578685 cost_fun: 70186510.54222709 acc: 0.9162658349172723\n",
      "slope: 12104.167969986844 Intercept: 4596.306465327759 cost_fun: 69835035.90244228 acc: 0.9166851524653705\n",
      "slope: 12096.616335831253 Intercept: 4654.9601671109085 cost_fun: 69485887.02282937 acc: 0.9171016953266425\n",
      "slope: 12089.089728290981 Intercept: 4713.41948664496 cost_fun: 69139048.51348583 acc: 0.9175154818616056\n",
      "slope: 12081.588064426167 Intercept: 4771.685068125549 cost_fun: 68794505.08634678 acc: 0.9179265303092824\n",
      "slope: 12074.111261571821 Intercept: 4829.757553613407 cost_fun: 68452241.55451041 acc: 0.9183348587880054\n",
      "slope: 12066.65923733691 Intercept: 4887.637583041431 cost_fun: 68112242.83156927 acc: 0.9187404852962151\n",
      "slope: 12059.231909603448 Intercept: 4945.325794221739 cost_fun: 67774493.93094458 acc: 0.9191434277132541\n",
      "slope: 12051.829196525596 Intercept: 5002.822822852697 cost_fun: 67438979.9652263 acc: 0.9195437038001542\n",
      "slope: 12044.451016528756 Intercept: 5060.129302525926 cost_fun: 67105686.14551628 acc: 0.9199413312004202\n",
      "slope: 12037.097288308674 Intercept: 5117.2458647332805 cost_fun: 66774597.780776955 acc: 0.9203363274408071\n",
      "slope: 12029.767930830545 Intercept: 5174.173138873811 cost_fun: 66445700.27718351 acc: 0.9207287099320925\n",
      "slope: 12022.462863328115 Intercept: 5230.911752260696 cost_fun: 66118979.13748056 acc: 0.9211184959698447\n",
      "slope: 12015.182005302799 Intercept: 5287.462330128158 cost_fun: 65794419.960343294 acc: 0.9215057027351843\n",
      "slope: 12007.925276522788 Intercept: 5343.825495638353 cost_fun: 65472008.43974262 acc: 0.9218903472955419\n",
      "slope: 12000.692597022164 Intercept: 5400.001869888232 cost_fun: 65151730.36431457 acc: 0.9222724466054104\n",
      "slope: 11993.483887100025 Intercept: 5455.992071916396 cost_fun: 64833571.61673384 acc: 0.9226520175070927\n",
      "slope: 11986.299067319604 Intercept: 5511.796718709905 cost_fun: 64517518.17309158 acc: 0.923029076731443\n",
      "slope: 11979.138058507386 Intercept: 5567.416425211086 cost_fun: 64203556.1022774 acc: 0.9234036408986052\n",
      "slope: 11972.000781752251 Intercept: 5622.851804324307 cost_fun: 63891671.56536495 acc: 0.9237757265187453\n",
      "slope: 11964.887158404586 Intercept: 5678.103466922728 cost_fun: 63581850.81500218 acc: 0.9241453499927791\n",
      "slope: 11957.797110075442 Intercept: 5733.172021855039 cost_fun: 63274080.194805376 acc: 0.924512527613095\n",
      "slope: 11950.730558635638 Intercept: 5788.058075952161 cost_fun: 62968346.13875703 acc: 0.9248772755642723\n",
      "slope: 11943.687426214936 Intercept: 5842.762234033939 cost_fun: 62664635.17060826 acc: 0.9252396099237944\n",
      "slope: 11936.66763520115 Intercept: 5897.285098915805 cost_fun: 62362933.903284185 acc: 0.9255995466627577\n",
      "slope: 11929.671108239318 Intercept: 5951.62727141542 cost_fun: 62063229.03829443 acc: 0.9259571016465754\n",
      "slope: 11922.697768230828 Intercept: 6005.789350359296 cost_fun: 61765507.36514669 acc: 0.926312290635677\n",
      "slope: 11915.747538332585 Intercept: 6059.771932589395 cost_fun: 61469755.760764375 acc: 0.9266651292862027\n",
      "slope: 11908.820341956154 Intercept: 6113.575612969704 cost_fun: 61175961.18890833 acc: 0.9270156331506939\n",
      "slope: 11901.916102766922 Intercept: 6167.200984392792 cost_fun: 60884110.69960213 acc: 0.9273638176787784\n",
      "slope: 11895.034744683246 Intercept: 6220.648637786343 cost_fun: 60594191.428561226 acc: 0.9277096982178514\n",
      "slope: 11888.176191875631 Intercept: 6273.919162119668 cost_fun: 60306190.59662594 acc: 0.9280532900137525\n",
      "slope: 11881.340368765885 Intercept: 6327.013144410193 cost_fun: 60020095.50919843 acc: 0.9283946082114366\n",
      "slope: 11874.527200026281 Intercept: 6379.93116972993 cost_fun: 59735893.5556826 acc: 0.9287336678556429\n",
      "slope: 11867.73661057874 Intercept: 6432.673821211925 cost_fun: 59453572.20892872 acc: 0.9290704838915569\n",
      "slope: 11860.968525593993 Intercept: 6485.2416800566825 cost_fun: 59173119.02468107 acc: 0.9294050711654696\n",
      "slope: 11854.222870490761 Intercept: 6537.6353255385675 cost_fun: 58894521.64102931 acc: 0.929737444425432\n",
      "slope: 11847.499570934933 Intercept: 6589.855335012194 cost_fun: 58617767.77786396 acc: 0.9300676183219051\n",
      "slope: 11840.798552838745 Intercept: 6641.902283918783 cost_fun: 58342845.2363345 acc: 0.9303956074084054\n",
      "slope: 11834.119742359966 Intercept: 6693.776745792506 cost_fun: 58069741.89831239 acc: 0.9307214261421467\n",
      "slope: 11827.46306590108 Intercept: 6745.479292266804 cost_fun: 57798445.7258563 acc: 0.9310450888846773\n",
      "slope: 11820.828450108484 Intercept: 6797.010493080688 cost_fun: 57528944.76068184 acc: 0.9313666099025131\n",
      "slope: 11814.215821871667 Intercept: 6848.370916085015 cost_fun: 57261227.12363445 acc: 0.9316860033677659\n",
      "slope: 11807.625108322414 Intercept: 6899.561127248747 cost_fun: 56995281.01416551 acc: 0.932003283358769\n",
      "slope: 11801.056236834005 Intercept: 6950.581690665187 cost_fun: 56731094.70981268 acc: 0.9323184638606969\n",
      "slope: 11794.509135020398 Intercept: 7001.4331685581965 cost_fun: 56468656.565682665 acc: 0.9326315587661826\n",
      "slope: 11787.983730735456 Intercept: 7052.116121288389 cost_fun: 56207955.01393816 acc: 0.9329425818759292\n",
      "slope: 11781.47995207213 Intercept: 7102.631107359306 cost_fun: 55948978.56328815 acc: 0.9332515468993181\n",
      "slope: 11774.997727361679 Intercept: 7152.978683423572 cost_fun: 55691715.79848111 acc: 0.9335584674550141\n",
      "slope: 11768.536985172877 Intercept: 7203.159404289027 cost_fun: 55436155.37980186 acc: 0.9338633570715655\n",
      "slope: 11762.097654311227 Intercept: 7253.173822924842 cost_fun: 55182286.04257202 acc: 0.9341662291879996\n",
      "slope: 11755.679663818173 Intercept: 7303.022490467611 cost_fun: 54930096.596653 acc: 0.9344670971544161\n",
      "slope: 11749.282942970322 Intercept: 7352.7059562274235 cost_fun: 54679575.92595325 acc: 0.9347659742325747\n",
      "slope: 11742.90742127866 Intercept: 7402.224767693921 cost_fun: 54430712.98793793 acc: 0.9350628735964803\n",
      "slope: 11736.553028487784 Intercept: 7451.579470542329 cost_fun: 54183496.81314234 acc: 0.9353578083329637\n",
      "slope: 11730.219694575115 Intercept: 7500.7706086394655 cost_fun: 53937916.504688434 acc: 0.9356507914422575\n",
      "slope: 11723.907349750141 Intercept: 7549.798724049741 cost_fun: 53693961.23780432 acc: 0.9359418358385705\n",
      "slope: 11717.615924453632 Intercept: 7598.664357041128 cost_fun: 53451620.25934724 acc: 0.9362309543506558\n",
      "slope: 11711.34534935689 Intercept: 7647.368046091115 cost_fun: 53210882.88732973 acc: 0.9365181597223771\n",
      "slope: 11705.095555360971 Intercept: 7695.9103278926395 cost_fun: 52971738.51044843 acc: 0.9368034646132697\n",
      "slope: 11698.866473595934 Intercept: 7744.291737360005 cost_fun: 52734176.587616816 acc: 0.937086881599099\n",
      "slope: 11692.65803542007 Intercept: 7792.512807634772 cost_fun: 52498186.647500016 acc: 0.9373684231724148\n",
      "slope: 11686.470172419165 Intercept: 7840.574070091635 cost_fun: 52263758.28805377 acc: 0.9376481017431015\n",
      "slope: 11680.302816405725 Intercept: 7888.476054344278 cost_fun: 52030881.176065534 acc: 0.9379259296389261\n",
      "slope: 11674.155899418236 Intercept: 7936.219288251211 cost_fun: 51799545.04669938 acc: 0.9382019191060801\n",
      "slope: 11668.029353720414 Intercept: 7983.804297921583 cost_fun: 51569739.70304305 acc: 0.9384760823097207\n",
      "slope: 11661.923111800457 Intercept: 8031.231607720986 cost_fun: 51341455.01565905 acc: 0.9387484313345061\n",
      "slope: 11655.8371063703 Intercept: 8078.501740277227 cost_fun: 51114680.92213773 acc: 0.9390189781851289\n",
      "slope: 11649.77127036488 Intercept: 8125.615216486092 cost_fun: 50889407.426654 acc: 0.9392877347868444\n",
      "slope: 11643.725536941382 Intercept: 8172.572555517082 cost_fun: 50665624.59952646 acc: 0.9395547129859971\n",
      "slope: 11637.699839478528 Intercept: 8219.374274819138 cost_fun: 50443322.576780155 acc: 0.9398199245505422\n",
      "slope: 11631.694111575813 Intercept: 8266.020890126338 cost_fun: 50222491.55971125 acc: 0.9400833811705648\n",
      "slope: 11625.708287052794 Intercept: 8312.512915463585 cost_fun: 50003121.814455636 acc: 0.9403450944587947\n",
      "slope: 11619.742299948357 Intercept: 8358.85086315227 cost_fun: 49785203.67155956 acc: 0.9406050759511186\n",
      "slope: 11613.796084519978 Intercept: 8405.035243815919 cost_fun: 49568727.525553375 acc: 0.9408633371070889\n",
      "slope: 11607.86957524302 Intercept: 8451.06656638581 cost_fun: 49353683.8345284 acc: 0.9411198893104279\n",
      "slope: 11601.962706809989 Intercept: 8496.9453381066 cost_fun: 49140063.11971613 acc: 0.9413747438695304\n"
     ]
    },
    {
     "name": "stdout",
     "output_type": "stream",
     "text": [
      "slope: 11596.07541412983 Intercept: 8542.672064541894 cost_fun: 48927855.965070486 acc: 0.9416279120179618\n",
      "slope: 11590.207632327201 Intercept: 8588.24724957983 cost_fun: 48717053.0168528 acc: 0.9418794049149533\n",
      "slope: 11584.359296741768 Intercept: 8633.671395438629 cost_fun: 48507644.983219415 acc: 0.9421292336458937\n",
      "slope: 11578.530342927475 Intercept: 8678.945002672122 cost_fun: 48299622.63381227 acc: 0.9423774092228185\n",
      "slope: 11572.720706651853 Intercept: 8724.06857017528 cost_fun: 48092976.79935203 acc: 0.9426239425848945\n",
      "slope: 11566.930323895298 Intercept: 8769.042595189694 cost_fun: 47887698.3712336 acc: 0.9428688445989025\n",
      "slope: 11561.159130850374 Intercept: 8813.86757330907 cost_fun: 47683778.301125124 acc: 0.9431121260597164\n",
      "slope: 11555.40706392111 Intercept: 8858.54399848468 cost_fun: 47481207.60056885 acc: 0.9433537976907787\n",
      "slope: 11549.674059722289 Intercept: 8903.072363030811 cost_fun: 47279977.34058495 acc: 0.9435938701445729\n",
      "slope: 11543.960055078762 Intercept: 8947.453157630187 cost_fun: 47080078.65127798 acc: 0.9438323540030942\n",
      "slope: 11538.264987024748 Intercept: 8991.686871339376 cost_fun: 46881502.72144604 acc: 0.9440692597783142\n",
      "slope: 11532.588792803132 Intercept: 9035.773991594182 cost_fun: 46684240.79819202 acc: 0.9443045979126464\n",
      "slope: 11526.931409864786 Intercept: 9079.715004215013 cost_fun: 46488284.186538324 acc: 0.9445383787794042\n",
      "slope: 11521.292775867876 Intercept: 9123.510393412236 cost_fun: 46293624.24904313 acc: 0.9447706126832596\n",
      "slope: 11515.672828677165 Intercept: 9167.160641791515 cost_fun: 46100252.40541991 acc: 0.9450013098606974\n",
      "slope: 11510.071506363342 Intercept: 9210.666230359124 cost_fun: 45908160.13215925 acc: 0.9452304804804655\n",
      "slope: 11504.488747202333 Intercept: 9254.027638527252 cost_fun: 45717338.96215299 acc: 0.9454581346440241\n",
      "slope: 11498.92448967462 Intercept: 9297.245344119285 cost_fun: 45527780.48432098 acc: 0.9456842823859903\n",
      "slope: 11493.378672464569 Intercept: 9340.319823375068 cost_fun: 45339476.34324076 acc: 0.9459089336745807\n",
      "slope: 11487.851234459742 Intercept: 9383.251550956158 cost_fun: 45152418.23877853 acc: 0.9461320984120508\n",
      "slope: 11482.342114750241 Intercept: 9426.040999951052 cost_fun: 44966597.92572413 acc: 0.9463537864351312\n",
      "slope: 11476.851252628021 Intercept: 9468.6886418804 cost_fun: 44782007.213426955 acc: 0.9465740075154617\n",
      "slope: 11471.37858758623 Intercept: 9511.1949467022 cost_fun: 44598637.9654351 acc: 0.9467927713600214\n",
      "slope: 11465.924059318539 Intercept: 9553.56038281698 cost_fun: 44416482.09913692 acc: 0.9470100876115569\n",
      "slope: 11460.48760771848 Intercept: 9595.785417072959 cost_fun: 44235531.5854046 acc: 0.9472259658490075\n",
      "slope: 11455.069172878777 Intercept: 9637.870514771184 cost_fun: 44055778.44824024 acc: 0.9474404155879271\n",
      "slope: 11449.668695090697 Intercept: 9679.816139670671 cost_fun: 43877214.76442428 acc: 0.9476534462809039\n",
      "slope: 11444.28611484338 Intercept: 9721.622753993503 cost_fun: 43699832.663166344 acc: 0.9478650673179765\n",
      "slope: 11438.921372823195 Intercept: 9763.29081842993 cost_fun: 43523624.32575816 acc: 0.9480752880270487\n",
      "slope: 11433.574409913075 Intercept: 9804.820792143446 cost_fun: 43348581.98522908 acc: 0.9482841176742999\n",
      "slope: 11428.245167191872 Intercept: 9846.213132775842 cost_fun: 43174697.92600371 acc: 0.9484915654645939\n",
      "slope: 11422.933585933708 Intercept: 9887.468296452258 cost_fun: 43001964.48356171 acc: 0.9486976405418844\n",
      "slope: 11417.639607607325 Intercept: 9928.586737786205 cost_fun: 42830374.04409993 acc: 0.9489023519896187\n",
      "slope: 11412.363173875443 Intercept: 9969.568909884572 cost_fun: 42659919.04419705 acc: 0.9491057088311368\n",
      "slope: 11407.104226594114 Intercept: 10010.415264352623 cost_fun: 42490591.97048001 acc: 0.9493077200300704\n",
      "slope: 11401.862707812088 Intercept: 10051.126251298974 cost_fun: 42322385.35929279 acc: 0.9495083944907373\n",
      "slope: 11396.638559770157 Intercept: 10091.702319340548 cost_fun: 42155291.79636748 acc: 0.9497077410585344\n",
      "slope: 11391.431724900545 Intercept: 10132.143915607525 cost_fun: 41989303.916497566 acc: 0.949905768520327\n",
      "slope: 11386.242145826252 Intercept: 10172.451485748265 cost_fun: 41824414.40321326 acc: 0.9501024856048365\n",
      "slope: 11381.06976536043 Intercept: 10212.625473934217 cost_fun: 41660615.98845867 acc: 0.9502979009830251\n",
      "slope: 11375.91452650575 Intercept: 10252.666322864821 cost_fun: 41497901.45227214 acc: 0.9504920232684777\n",
      "slope: 11370.776372453782 Intercept: 10292.57447377238 cost_fun: 41336263.62246719 acc: 0.9506848610177823\n",
      "slope: 11365.655246584358 Intercept: 10332.350366426923 cost_fun: 41175695.37431692 acc: 0.9508764227309062\n",
      "slope: 11360.551092464953 Intercept: 10371.994439141052 cost_fun: 41016189.630239904 acc: 0.9510667168515713\n",
      "slope: 11355.463853850068 Intercept: 10411.507128774772 cost_fun: 40857739.35948801 acc: 0.9512557517676263\n",
      "slope: 11350.393474680597 Intercept: 10450.888870740308 cost_fun: 40700337.57783665 acc: 0.951443535811416\n",
      "slope: 11345.339899083225 Intercept: 10490.140099006896 cost_fun: 40543977.34727684 acc: 0.9516300772601491\n",
      "slope: 11340.3030713698 Intercept: 10529.261246105572 cost_fun: 40388651.77570954 acc: 0.9518153843362626\n",
      "slope: 11335.28293603673 Intercept: 10568.252743133935 cost_fun: 40234354.01664172 acc: 0.9519994652077843\n",
      "slope: 11330.279437764357 Intercept: 10607.115019760897 cost_fun: 40081077.26888452 acc: 0.9521823279886932\n",
      "slope: 11325.292521416366 Intercept: 10645.848504231419 cost_fun: 39928814.77625375 acc: 0.9523639807392767\n",
      "slope: 11320.322132039159 Intercept: 10684.45362337123 cost_fun: 39777559.82727174 acc: 0.9525444314664862\n",
      "slope: 11315.36821486126 Intercept: 10722.93080259153 cost_fun: 39627305.75487173 acc: 0.9527236881242898\n",
      "slope: 11310.430715292714 Intercept: 10761.28046589368 cost_fun: 39478045.93610399 acc: 0.9529017586140229\n",
      "slope: 11305.509578924475 Intercept: 10799.503035873871 cost_fun: 39329773.791843645 acc: 0.9530786507847371\n",
      "slope: 11300.604751527815 Intercept: 10837.598933727782 cost_fun: 39182482.78650114 acc: 0.9532543724335449\n",
      "slope: 11295.716179053723 Intercept: 10875.568579255221 cost_fun: 39036166.42773364 acc: 0.9534289313059648\n",
      "slope: 11290.84380763231 Intercept: 10913.412390864754 cost_fun: 38890818.266159326 acc: 0.9536023350962617\n",
      "slope: 11285.987583572216 Intercept: 10951.130785578312 cost_fun: 38746431.89507275 acc: 0.9537745914477865\n",
      "slope: 11281.147453360014 Intercept: 10988.724179035788 cost_fun: 38603000.950162694 acc: 0.9539457079533128\n",
      "slope: 11276.32336365963 Intercept: 11026.192985499614 cost_fun: 38460519.109231435 acc: 0.9541156921553718\n",
      "slope: 11271.515261311746 Intercept: 11063.537617859334 cost_fun: 38318980.09191627 acc: 0.9542845515465846\n",
      "slope: 11266.72309333322 Intercept: 11100.758487636145 cost_fun: 38178377.65941256 acc: 0.9544522935699926\n",
      "slope: 11261.946806916489 Intercept: 11137.856004987438 cost_fun: 38038705.614198685 acc: 0.9546189256193854\n",
      "slope: 11257.186349429017 Intercept: 11174.830578711311 cost_fun: 37899957.79976311 acc: 0.9547844550396268\n",
      "slope: 11252.441668412679 Intercept: 11211.682616251084 cost_fun: 37762128.10033277 acc: 0.9549488891269784\n",
      "slope: 11247.712711583206 Intercept: 11248.412523699779 cost_fun: 37625210.440603554 acc: 0.9551122351294216\n",
      "slope: 11242.999426829603 Intercept: 11285.0207058046 cost_fun: 37489198.785472564 acc: 0.9552745002469766\n",
      "slope: 11238.301762213574 Intercept: 11321.507565971391 cost_fun: 37354087.13977211 acc: 0.9554356916320202\n",
      "slope: 11233.619665968949 Intercept: 11357.873506269085 cost_fun: 37219869.54800544 acc: 0.9555958163896008\n",
      "slope: 11228.953086501115 Intercept: 11394.118927434127 cost_fun: 37086540.094084166 acc: 0.9557548815777513\n",
      "slope: 11224.301972386445 Intercept: 11430.244228874899 cost_fun: 36954092.9010675 acc: 0.9559128942078012\n",
      "slope: 11219.66627237174 Intercept: 11466.249808676117 cost_fun: 36822522.13090337 acc: 0.9560698612446844\n",
      "slope: 11215.045935373648 Intercept: 11502.136063603217 cost_fun: 36691821.98417083 acc: 0.9562257896072471\n",
      "slope: 11210.440910478117 Intercept: 11537.903389106728 cost_fun: 36561986.69982473 acc: 0.9563806861685523\n",
      "slope: 11205.851146939825 Intercept: 11573.55217932663 cost_fun: 36433010.55494142 acc: 0.956534557756183\n",
      "slope: 11201.276594181625 Intercept: 11609.082827096698 cost_fun: 36304887.86446685 acc: 0.9566874111525431\n",
      "slope: 11196.717201793987 Intercept: 11644.495723948825 cost_fun: 36177612.980965756 acc: 0.9568392530951562\n",
      "slope: 11192.172919534436 Intercept: 11679.791260117348 cost_fun: 36051180.29437282 acc: 0.9569900902769627\n",
      "slope: 11187.64369732701 Intercept: 11714.96982454334 cost_fun: 35925584.23174534 acc: 0.9571399293466151\n",
      "slope: 11183.1294852617 Intercept: 11750.031804878892 cost_fun: 35800819.25701757 acc: 0.9572887769087703\n",
      "slope: 11178.6302335939 Intercept: 11784.977587491398 cost_fun: 35676879.870756835 acc: 0.9574366395243816\n",
      "slope: 11174.145892743863 Intercept: 11819.8075574678 cost_fun: 35553760.609920956 acc: 0.9575835237109874\n",
      "slope: 11169.676413296153 Intercept: 11854.52209861884 cost_fun: 35431456.047617555 acc: 0.9577294359429985\n",
      "slope: 11165.2217459991 Intercept: 11889.121593483282 cost_fun: 35309960.79286476 acc: 0.9578743826519835\n",
      "slope: 11160.781841764256 Intercept: 11923.606423332132 cost_fun: 35189269.49035374 acc: 0.9580183702269525\n",
      "slope: 11156.356651665854 Intercept: 11957.976968172841 cost_fun: 35069376.82021239 acc: 0.9581614050146384\n",
      "slope: 11151.946126940275 Intercept: 11992.233606753489 cost_fun: 34950277.497771144 acc: 0.958303493319777\n",
      "slope: 11147.5502189855 Intercept: 12026.37671656696 cost_fun: 34831966.2733297 acc: 0.9584446414053848\n",
      "slope: 11143.168879360586 Intercept: 12060.4066738551 cost_fun: 34714437.93192608 acc: 0.9585848554930344\n",
      "slope: 11138.802059785123 Intercept: 12094.323853612865 cost_fun: 34597687.29310619 acc: 0.95872414176313\n",
      "slope: 11134.449712138705 Intercept: 12128.128629592455 cost_fun: 34481709.21069593 acc: 0.9588625063551791\n",
      "slope: 11130.111788460403 Intercept: 12161.82137430743 cost_fun: 34366498.57257428 acc: 0.9589999553680626\n",
      "slope: 11125.78824094823 Intercept: 12195.402459036814 cost_fun: 34252050.30044768 acc: 0.9591364948603046\n",
      "slope: 11121.479021958623 Intercept: 12228.872253829186 cost_fun: 34138359.34962659 acc: 0.9592721308503392\n",
      "slope: 11117.184084005907 Intercept: 12262.231127506764 cost_fun: 34025420.70880278 acc: 0.9594068693167753\n",
      "slope: 11112.903379761785 Intercept: 12295.479447669464 cost_fun: 33913229.399828725 acc: 0.9595407161986605\n",
      "slope: 11108.6368620548 Intercept: 12328.617580698947 cost_fun: 33801780.477497965 acc: 0.9596736773957429\n"
     ]
    },
    {
     "name": "stdout",
     "output_type": "stream",
     "text": [
      "slope: 11104.384483869833 Intercept: 12361.645891762666 cost_fun: 33691069.02932723 acc: 0.9598057587687313\n",
      "slope: 11100.14619834757 Intercept: 12394.564744817882 cost_fun: 33581090.17533984 acc: 0.9599369661395529\n",
      "slope: 11095.921958783994 Intercept: 12427.37450261568 cost_fun: 33471839.06785083 acc: 0.9600673052916106\n",
      "slope: 11091.711718629871 Intercept: 12460.07552670496 cost_fun: 33363310.891252786 acc: 0.9601967819700374\n",
      "slope: 11087.51543149023 Intercept: 12492.66817743643 cost_fun: 33255500.861804202 acc: 0.9603254018819505\n",
      "slope: 11083.333051123856 Intercept: 12525.152813966568 cost_fun: 33148404.227418113 acc: 0.9604531706967014\n",
      "slope: 11079.164531442784 Intercept: 12557.529794261585 cost_fun: 33042016.26745285 acc: 0.9605800940461275\n",
      "slope: 11075.009826511787 Intercept: 12589.799475101368 cost_fun: 32936332.29250397 acc: 0.9607061775247989\n",
      "slope: 11070.868890547865 Intercept: 12621.962212083414 cost_fun: 32831347.64419743 acc: 0.9608314266902659\n",
      "slope: 11066.741677919756 Intercept: 12654.018359626742 cost_fun: 32727057.694984592 acc: 0.9609558470633033\n",
      "slope: 11062.62814314741 Intercept: 12685.968270975807 cost_fun: 32623457.84793767 acc: 0.9610794441281545\n",
      "slope: 11058.528240901513 Intercept: 12717.812298204386 cost_fun: 32520543.536547646 acc: 0.9612022233327728\n",
      "slope: 11054.441926002968 Intercept: 12749.550792219463 cost_fun: 32418310.224522676 acc: 0.9613241900890614\n",
      "slope: 11050.369153422407 Intercept: 12781.184102765088 cost_fun: 32316753.405588344 acc: 0.9614453497731122\n",
      "slope: 11046.309878279693 Intercept: 12812.712578426243 cost_fun: 32215868.603288837 acc: 0.9615657077254427\n",
      "slope: 11042.264055843425 Intercept: 12844.13656663267 cost_fun: 32115651.37078972 acc: 0.9616852692512314\n",
      "slope: 11038.23164153044 Intercept: 12875.456413662709 cost_fun: 32016097.290681954 acc: 0.9618040396205517\n",
      "slope: 11034.21259090533 Intercept: 12906.67246464711 cost_fun: 31917201.974787172 acc: 0.961922024068604\n",
      "slope: 11030.206859679953 Intercept: 12937.785063572837 cost_fun: 31818961.063964155 acc: 0.9620392277959469\n",
      "slope: 11026.214403712935 Intercept: 12968.794553286858 cost_fun: 31721370.227916896 acc: 0.9621556559687255\n",
      "slope: 11022.23517900919 Intercept: 12999.701275499925 cost_fun: 31624425.16500348 acc: 0.9622713137189005\n",
      "slope: 11018.269141719438 Intercept: 13030.505570790336 cost_fun: 31528121.602046728 acc: 0.9623862061444731\n",
      "slope: 11014.316248139716 Intercept: 13061.20777860769 cost_fun: 31432455.29414556 acc: 0.9625003383097106\n",
      "slope: 11010.376454710899 Intercept: 13091.80823727663 cost_fun: 31337422.024488147 acc: 0.9626137152453692\n",
      "slope: 11006.449718018217 Intercept: 13122.307284000564 cost_fun: 31243017.604165986 acc: 0.9627263419489156\n",
      "slope: 11002.535994790785 Intercept: 13152.705254865392 cost_fun: 31149237.87198904 acc: 0.9628382233847479\n",
      "slope: 10998.635241901122 Intercept: 13183.002484843199 cost_fun: 31056078.69430259 acc: 0.9629493644844136\n",
      "slope: 10994.747416364662 Intercept: 13213.199307795949 cost_fun: 30963535.964804992 acc: 0.9630597701468279\n",
      "slope: 10990.872475339307 Intercept: 13243.29605647917 cost_fun: 30871605.60436637 acc: 0.9631694452384888\n",
      "slope: 10987.010376124934 Intercept: 13273.293062545612 cost_fun: 30780283.560849383 acc: 0.9632783945936921\n",
      "slope: 10983.161076162929 Intercept: 13303.190656548908 cost_fun: 30689565.808930084 acc: 0.9633866230147443\n",
      "slope: 10979.324533035726 Intercept: 13332.989167947215 cost_fun: 30599448.349920705 acc: 0.9634941352721742\n",
      "slope: 10975.500704466325 Intercept: 13362.68892510684 cost_fun: 30509927.211593445 acc: 0.9636009361049437\n",
      "slope: 10971.689548317849 Intercept: 13392.290255305868 cost_fun: 30420998.448005345 acc: 0.9637070302206556\n",
      "slope: 10967.891022593047 Intercept: 13421.793484737758 cost_fun: 30332658.139324278 acc: 0.9638124222957626\n",
      "slope: 10964.105085433863 Intercept: 13451.198938514945 cost_fun: 30244902.39165625 acc: 0.963917116975772\n",
      "slope: 10960.33169512096 Intercept: 13480.506940672418 cost_fun: 30157727.33687379 acc: 0.9640211188754512\n",
      "slope: 10956.570810073255 Intercept: 13509.717814171294 cost_fun: 30071129.132445283 acc: 0.9641244325790314\n",
      "slope: 10952.822388847473 Intercept: 13538.831880902375 cost_fun: 29985103.961265936 acc: 0.9642270626404086\n",
      "slope: 10949.086390137685 Intercept: 13567.849461689695 cost_fun: 29899648.031489052 acc: 0.9643290135833456\n",
      "slope: 10945.36277277485 Intercept: 13596.770876294057 cost_fun: 29814757.576359387 acc: 0.9644302899016702\n",
      "slope: 10941.651495726363 Intercept: 13625.596443416554 cost_fun: 29730428.85404667 acc: 0.9645308960594746\n",
      "slope: 10937.95251809561 Intercept: 13654.326480702086 cost_fun: 29646658.147481024 acc: 0.9646308364913108\n",
      "slope: 10934.265799121502 Intercept: 13682.961304742854 cost_fun: 29563441.764188953 acc: 0.9647301156023869\n",
      "slope: 10930.59129817804 Intercept: 13711.50123108185 cost_fun: 29480776.036130533 acc: 0.9648287377687612\n",
      "slope: 10926.928974773866 Intercept: 13739.946574216337 cost_fun: 29398657.319537874 acc: 0.9649267073375348\n",
      "slope: 10923.278788551806 Intercept: 13768.297647601317 cost_fun: 29317081.994754422 acc: 0.9650240286270437\n",
      "slope: 10919.640699288437 Intercept: 13796.554763652977 cost_fun: 29236046.46607551 acc: 0.9651207059270484\n",
      "slope: 10916.014666893632 Intercept: 13824.718233752135 cost_fun: 29155547.16158963 acc: 0.9652167434989234\n",
      "slope: 10912.400651410138 Intercept: 13852.788368247679 cost_fun: 29075580.533021256 acc: 0.9653121455758457\n",
      "slope: 10908.798613013112 Intercept: 13880.76547645997 cost_fun: 28996143.055574335 acc: 0.9654069163629799\n",
      "slope: 10905.208512009698 Intercept: 13908.64986668427 cost_fun: 28917231.227776844 acc: 0.9655010600376651\n",
      "slope: 10901.630308838583 Intercept: 13936.441846194128 cost_fun: 28838841.57132662 acc: 0.9655945807495978\n",
      "slope: 10898.063964069563 Intercept: 13964.141721244765 cost_fun: 28760970.63093786 acc: 0.9656874826210157\n",
      "slope: 10894.509438403109 Intercept: 13991.749797076454 cost_fun: 28683614.97418887 acc: 0.9657797697468787\n",
      "slope: 10890.966692669932 Intercept: 14019.266377917882 cost_fun: 28606771.191370964 acc: 0.9658714461950502\n",
      "slope: 10887.435687830557 Intercept: 14046.691766989501 cost_fun: 28530435.89533788 acc: 0.9659625160064754\n",
      "slope: 10883.916384974882 Intercept: 14074.026266506871 cost_fun: 28454605.72135662 acc: 0.9660529831953604\n",
      "slope: 10880.408745321758 Intercept: 14101.27017768399 cost_fun: 28379277.326959148 acc: 0.9661428517493483\n",
      "slope: 10876.912730218563 Intercept: 14128.42380073661 cost_fun: 28304447.391795047 acc: 0.966232125629696\n",
      "slope: 10873.428301140768 Intercept: 14155.487434885552 cost_fun: 28230112.617485162 acc: 0.9663208087714473\n",
      "slope: 10869.955419691516 Intercept: 14182.461378359998 cost_fun: 28156269.727476127 acc: 0.9664089050836081\n",
      "slope: 10866.494047601205 Intercept: 14209.345928400777 cost_fun: 28082915.46689613 acc: 0.9664964184493171\n",
      "slope: 10863.044146727056 Intercept: 14236.141381263646 cost_fun: 28010046.602411248 acc: 0.9665833527260184\n",
      "slope: 10859.6056790527 Intercept: 14262.848032222546 cost_fun: 27937659.922083076 acc: 0.96666971174563\n",
      "slope: 10856.178606687754 Intercept: 14289.466175572865 cost_fun: 27865752.235227026 acc: 0.9667554993147142\n",
      "slope: 10852.762891867415 Intercept: 14315.996104634674 cost_fun: 27794320.372271754 acc: 0.9668407192146444\n",
      "slope: 10849.358496952022 Intercept: 14342.438111755964 cost_fun: 27723361.184619535 acc: 0.9669253752017722\n",
      "slope: 10845.965384426663 Intercept: 14368.792488315863 cost_fun: 27652871.54450723 acc: 0.9670094710075928\n",
      "slope: 10842.583516900751 Intercept: 14395.05952472785 cost_fun: 27582848.344868716 acc: 0.9670930103389096\n",
      "slope: 10839.212857107615 Intercept: 14421.239510442956 cost_fun: 27513288.49919765 acc: 0.9671759968779974\n",
      "slope: 10835.853367904085 Intercept: 14447.33273395295 cost_fun: 27444188.94141175 acc: 0.9672584342827649\n",
      "slope: 10832.505012270089 Intercept: 14473.33948279352 cost_fun: 27375546.625717252 acc: 0.967340326186916\n",
      "slope: 10829.16775330824 Intercept: 14499.260043547447 cost_fun: 27307358.52647505 acc: 0.9674216762001097\n",
      "slope: 10825.841554243434 Intercept: 14525.094701847751 cost_fun: 27239621.638066996 acc: 0.9675024879081192\n",
      "slope: 10822.526378422437 Intercept: 14550.843742380846 cost_fun: 27172332.97476367 acc: 0.9675827648729906\n",
      "slope: 10819.222189313492 Intercept: 14576.50744888968 cost_fun: 27105489.57059259 acc: 0.9676625106331987\n",
      "slope: 10815.928950505908 Intercept: 14602.086104176858 cost_fun: 27039088.479207654 acc: 0.9677417287038044\n",
      "slope: 10812.646625709662 Intercept: 14627.579990107755 cost_fun: 26973126.773759045 acc: 0.9678204225766085\n",
      "slope: 10809.375178754995 Intercept: 14652.989387613628 cost_fun: 26907601.54676446 acc: 0.967898595720306\n",
      "slope: 10806.114573592024 Intercept: 14678.31457669471 cost_fun: 26842509.909980763 acc: 0.9679762515806394\n",
      "slope: 10802.864774290332 Intercept: 14703.55583642329 cost_fun: 26777848.994276773 acc: 0.9680533935805498\n",
      "slope: 10799.625745038582 Intercept: 14728.713444946796 cost_fun: 26713615.949506883 acc: 0.9681300251203282\n",
      "slope: 10796.397450144112 Intercept: 14753.787679490859 cost_fun: 26649807.944385137 acc: 0.9682061495777657\n",
      "slope: 10793.179854032556 Intercept: 14778.778816362365 cost_fun: 26586422.166360755 acc: 0.968281770308302\n",
      "slope: 10789.972921247436 Intercept: 14803.687130952498 cost_fun: 26523455.82149403 acc: 0.9683568906451729\n",
      "slope: 10786.77661644978 Intercept: 14828.51289773978 cost_fun: 26460906.134333044 acc: 0.9684315138995583\n",
      "slope: 10783.590904417742 Intercept: 14853.256390293092 cost_fun: 26398770.347791612 acc: 0.968505643360727\n",
      "slope: 10780.415750046192 Intercept: 14877.91788127469 cost_fun: 26337045.723027512 acc: 0.9685792822961824\n",
      "slope: 10777.251118346341 Intercept: 14902.49764244321 cost_fun: 26275729.539321877 acc: 0.9686524339518067\n",
      "slope: 10774.096974445365 Intercept: 14926.995944656659 cost_fun: 26214819.093959212 acc: 0.968725101552003\n",
      "slope: 10770.953283585999 Intercept: 14951.413057875407 cost_fun: 26154311.702108353 acc: 0.9687972882998385\n",
      "slope: 10767.820011126174 Intercept: 14975.749251165153 cost_fun: 26094204.696703993 acc: 0.968868997377185\n",
      "slope: 10764.697122538624 Intercept: 15000.004792699898 cost_fun: 26034495.42832928 acc: 0.9689402319448596\n",
      "slope: 10761.584583410511 Intercept: 15024.179949764894 cost_fun: 25975181.265098874 acc: 0.9690109951427633\n",
      "slope: 10758.482359443038 Intercept: 15048.274988759593 cost_fun: 25916259.59254302 acc: 0.9690812900900208\n",
      "slope: 10755.390416451082 Intercept: 15072.290175200584 cost_fun: 25857727.813492384 acc: 0.9691511198851159\n",
      "slope: 10752.30872036281 Intercept: 15096.22577372451 cost_fun: 25799583.34796332 acc: 0.9692204876060304\n",
      "slope: 10749.237237219304 Intercept: 15120.082048091 cost_fun: 25741823.63304454 acc: 0.969289396310378\n",
      "slope: 10746.17593317419 Intercept: 15143.859261185558 cost_fun: 25684446.122783702 acc: 0.9693578490355399\n",
      "slope: 10743.124774493264 Intercept: 15167.557675022472 cost_fun: 25627448.288075607 acc: 0.9694258487987982\n",
      "slope: 10740.083727554114 Intercept: 15191.177550747696 cost_fun: 25570827.6165504 acc: 0.9694933985974699\n"
     ]
    },
    {
     "name": "stdout",
     "output_type": "stream",
     "text": [
      "slope: 10737.05275884576 Intercept: 15214.719148641729 cost_fun: 25514581.61246293 acc: 0.9695605014090375\n",
      "slope: 10734.031834968282 Intercept: 15238.182728122483 cost_fun: 25458707.796582893 acc: 0.9696271601912815\n",
      "slope: 10731.02092263244 Intercept: 15261.568547748144 cost_fun: 25403203.70608532 acc: 0.9696933778824102\n",
      "slope: 10728.019988659327 Intercept: 15284.876865220016 cost_fun: 25348066.894442126 acc: 0.9697591574011896\n",
      "slope: 10725.028999979986 Intercept: 15308.107937385366 cost_fun: 25293294.931314334 acc: 0.9698245016470712\n",
      "slope: 10722.047923635055 Intercept: 15331.262020240252 cost_fun: 25238885.402444813 acc: 0.969889413500321\n",
      "slope: 10719.076726774403 Intercept: 15354.339368932344 cost_fun: 25184835.909551963 acc: 0.9699538958221456\n",
      "slope: 10716.115376656766 Intercept: 15377.340237763734 cost_fun: 25131144.07022396 acc: 0.9700179514548185\n",
      "slope: 10713.163840649384 Intercept: 15400.264880193743 cost_fun: 25077807.517813794 acc: 0.9700815832218055\n",
      "slope: 10710.222086227648 Intercept: 15423.113548841708 cost_fun: 25024823.901334826 acc: 0.9701447939278893\n",
      "slope: 10707.290080974737 Intercept: 15445.88649548977 cost_fun: 24972190.88535737 acc: 0.9702075863592926\n",
      "slope: 10704.367792581255 Intercept: 15468.583971085649 cost_fun: 24919906.149905525 acc: 0.9702699632838014\n",
      "slope: 10701.455188844893 Intercept: 15491.206225745405 cost_fun: 24867967.39035501 acc: 0.970331927450887\n",
      "slope: 10698.552237670054 Intercept: 15513.7535087562 cost_fun: 24816372.317331683 acc: 0.9703934815918268\n",
      "slope: 10695.658907067509 Intercept: 15536.226068579037 cost_fun: 24765118.656610444 acc: 0.9704546284198252\n",
      "slope: 10692.775165154047 Intercept: 15558.624152851507 cost_fun: 24714204.14901511 acc: 0.9705153706301325\n",
      "slope: 10689.900980152117 Intercept: 15580.948008390513 cost_fun: 24663626.550318852 acc: 0.9705757109001645\n",
      "slope: 10687.036320389481 Intercept: 15603.197881194988 cost_fun: 24613383.63114512 acc: 0.97063565188962\n",
      "slope: 10684.181154298865 Intercept: 15625.374016448612 cost_fun: 24563473.17686958 acc: 0.9706951962405982\n",
      "slope: 10681.335450417615 Intercept: 15647.476658522506 cost_fun: 24513892.98752232 acc: 0.9707543465777152\n",
      "slope: 10678.49917738734 Intercept: 15669.506050977932 cost_fun: 24464640.87769106 acc: 0.9708131055082194\n",
      "slope: 10675.672303953577 Intercept: 15691.462436568974 cost_fun: 24415714.6764246 acc: 0.9708714756221068\n",
      "slope: 10672.854798965442 Intercept: 15713.346057245211 cost_fun: 24367112.227137353 acc: 0.9709294594922352\n",
      "slope: 10670.046631375284 Intercept: 15735.157154154385 cost_fun: 24318831.38751407 acc: 0.9709870596744371\n",
      "slope: 10667.24777023835 Intercept: 15756.895967645061 cost_fun: 24270870.029415634 acc: 0.9710442787076329\n",
      "slope: 10664.458184712435 Intercept: 15778.56273726927 cost_fun: 24223226.03878506 acc: 0.9711011191139423\n",
      "slope: 10661.677844057556 Intercept: 15800.157701785154 cost_fun: 24175897.31555444 acc: 0.971157583398796\n",
      "slope: 10658.906717635593 Intercept: 15821.681099159592 cost_fun: 24128881.77355233 acc: 0.971213674051046\n",
      "slope: 10656.144774909972 Intercept: 15843.133166570828 cost_fun: 24082177.340411738 acc: 0.9712693935430747\n",
      "slope: 10653.391985445314 Intercept: 15864.514140411078 cost_fun: 24035781.957478873 acc: 0.9713247443309051\n",
      "slope: 10650.648318907108 Intercept: 15885.824256289145 cost_fun: 23989693.579722404 acc: 0.9713797288543077\n",
      "slope: 10647.913745061369 Intercept: 15907.063749033001 cost_fun: 23943910.175643224 acc: 0.971434349536909\n",
      "slope: 10645.188233774315 Intercept: 15928.232852692388 cost_fun: 23898429.727184996 acc: 0.9714886087862977\n",
      "slope: 10642.471755012026 Intercept: 15949.33180054139 cost_fun: 23853250.229645103 acc: 0.9715425089941316\n",
      "slope: 10639.764278840117 Intercept: 15970.360825081003 cost_fun: 23808369.691586383 acc: 0.9715960525362421\n",
      "slope: 10637.065775423407 Intercept: 15991.320158041704 cost_fun: 23763786.134749338 acc: 0.9716492417727397\n",
      "slope: 10634.376215025595 Intercept: 16012.210030385997 cost_fun: 23719497.593964852 acc: 0.9717020790481175\n",
      "slope: 10631.695568008921 Intercept: 16033.03067231096 cost_fun: 23675502.117067665 acc: 0.9717545666913546\n",
      "slope: 10629.02380483385 Intercept: 16053.782313250786 cost_fun: 23631797.764810305 acc: 0.9718067070160192\n",
      "slope: 10626.360896058746 Intercept: 16074.465181879303 cost_fun: 23588382.610777527 acc: 0.9718585023203703\n",
      "slope: 10623.70681233954 Intercept: 16095.079506112503 cost_fun: 23545254.74130152 acc: 0.9719099548874587\n",
      "slope: 10621.061524429411 Intercept: 16115.625513111048 cost_fun: 23502412.255377408 acc: 0.971961066985228\n",
      "slope: 10618.425003178469 Intercept: 16136.103429282775 cost_fun: 23459853.264579684 acc: 0.9720118408666146\n",
      "slope: 10615.797219533422 Intercept: 16156.51348028519 cost_fun: 23417575.892978806 acc: 0.9720622787696467\n",
      "slope: 10613.178144537267 Intercept: 16176.855891027955 cost_fun: 23375578.277058393 acc: 0.9721123829175434\n",
      "slope: 10610.567749328968 Intercept: 16197.130885675366 cost_fun: 23333858.565633386 acc: 0.9721621555188122\n",
      "slope: 10607.96600514313 Intercept: 16217.338687648824 cost_fun: 23292414.919768278 acc: 0.9722115987673465\n",
      "slope: 10605.372883309694 Intercept: 16237.479519629298 cost_fun: 23251245.512696 acc: 0.9722607148425227\n",
      "slope: 10602.788355253611 Intercept: 16257.553603559776 cost_fun: 23210348.529737487 acc: 0.9723095059092959\n",
      "slope: 10600.212392494537 Intercept: 16277.561160647712 cost_fun: 23169722.168221757 acc: 0.9723579741182948\n",
      "slope: 10597.64496664651 Intercept: 16297.502411367466 cost_fun: 23129364.6374063 acc: 0.9724061216059178\n",
      "slope: 10595.086049417643 Intercept: 16317.37757546273 cost_fun: 23089274.158398174 acc: 0.9724539504944261\n",
      "slope: 10592.535612609807 Intercept: 16337.186871948948 cost_fun: 23049448.964075804 acc: 0.9725014628920375\n",
      "slope: 10589.993628118327 Intercept: 16356.930519115738 cost_fun: 23009887.29901071 acc: 0.9725486608930197\n",
      "slope: 10587.460067931666 Intercept: 16376.608734529289 cost_fun: 22970587.41939052 acc: 0.972595546577782\n",
      "slope: 10584.934904131122 Intercept: 16396.22173503476 cost_fun: 22931547.592941806 acc: 0.9726421220129675\n",
      "slope: 10582.418108890513 Intercept: 16415.76973675867 cost_fun: 22892766.09885392 acc: 0.9726883892515441\n",
      "slope: 10579.909654475883 Intercept: 16435.252955111286 cost_fun: 22854241.22770307 acc: 0.9727343503328945\n",
      "slope: 10577.409513245177 Intercept: 16454.671604788986 cost_fun: 22815971.281376995 acc: 0.9727800072829069\n",
      "slope: 10574.917657647955 Intercept: 16474.025899776632 cost_fun: 22777954.57299999 acc: 0.972825362114064\n",
      "slope: 10572.434060225081 Intercept: 16493.316053349925 cost_fun: 22740189.426858753 acc: 0.9728704168255311\n",
      "slope: 10569.958693608418 Intercept: 16512.542278077755 cost_fun: 22702674.178328425 acc: 0.9729151734032451\n",
      "slope: 10567.491530520527 Intercept: 16531.70478582455 cost_fun: 22665407.173799247 acc: 0.9729596338200015\n",
      "slope: 10565.032543774374 Intercept: 16550.803787752597 cost_fun: 22628386.770603478 acc: 0.9730038000355417\n",
      "slope: 10562.581706273022 Intercept: 16569.839494324387 cost_fun: 22591611.33694341 acc: 0.9730476739966389\n",
      "slope: 10560.138991009331 Intercept: 16588.812115304918 cost_fun: 22555079.25181895 acc: 0.9730912576371846\n",
      "slope: 10557.70437106567 Intercept: 16607.72185976401 cost_fun: 22518788.904956535 acc: 0.9731345528782731\n",
      "slope: 10555.277819613613 Intercept: 16626.56893607862 cost_fun: 22482738.696738016 acc: 0.9731775616282867\n",
      "slope: 10552.859309913643 Intercept: 16645.353551935124 cost_fun: 22446927.038130105 acc: 0.9732202857829796\n",
      "slope: 10550.448815314865 Intercept: 16664.075914331614 cost_fun: 22411352.35061439 acc: 0.9732627272255616\n",
      "slope: 10548.0463092547 Intercept: 16682.736229580176 cost_fun: 22376013.066117804 acc: 0.9733048878267808\n",
      "slope: 10545.651765258603 Intercept: 16701.334703309163 cost_fun: 22340907.626943428 acc: 0.9733467694450066\n",
      "slope: 10543.265156939768 Intercept: 16719.871540465465 cost_fun: 22306034.4857018 acc: 0.9733883739263111\n",
      "slope: 10540.886457998833 Intercept: 16738.34694531676 cost_fun: 22271392.10524285 acc: 0.9734297031045506\n",
      "slope: 10538.5156422236 Intercept: 16756.761121453776 cost_fun: 22236978.958588023 acc: 0.9734707588014466\n",
      "slope: 10536.152683488732 Intercept: 16775.11427179252 cost_fun: 22202793.528862983 acc: 0.9735115428266661\n",
      "slope: 10533.79755575548 Intercept: 16793.40659857653 cost_fun: 22168834.30923082 acc: 0.973552056977901\n",
      "slope: 10531.450233071388 Intercept: 16811.638303379088 cost_fun: 22135099.80282557 acc: 0.9735923030409479\n",
      "slope: 10529.110689570001 Intercept: 16829.809587105454 cost_fun: 22101588.522686277 acc: 0.9736322827897862\n",
      "slope: 10526.778899470599 Intercept: 16847.920649995074 cost_fun: 22068298.991691384 acc: 0.9736719979866569\n",
      "slope: 10524.45483707789 Intercept: 16865.971691623785 cost_fun: 22035229.74249369 acc: 0.9737114503821399\n",
      "slope: 10522.138476781745 Intercept: 16883.962910906015 cost_fun: 22002379.31745568 acc: 0.9737506417152311\n",
      "slope: 10519.829793056906 Intercept: 16901.89450609698 cost_fun: 21969746.268585227 acc: 0.9737895737134193\n",
      "slope: 10517.528760462706 Intercept: 16919.766674794868 cost_fun: 21937329.157471675 acc: 0.9738282480927626\n",
      "slope: 10515.235353642795 Intercept: 16937.579613943002 cost_fun: 21905126.555222757 acc: 0.9738666665579631\n",
      "slope: 10512.94954732485 Intercept: 16955.333519832035 cost_fun: 21873137.04240128 acc: 0.9739048308024427\n",
      "slope: 10510.671316320306 Intercept: 16973.028588102094 cost_fun: 21841359.20896258 acc: 0.9739427425084183\n",
      "slope: 10508.40063552407 Intercept: 16990.66501374494 cost_fun: 21809791.654192638 acc: 0.9739804033469747\n",
      "slope: 10506.137479914258 Intercept: 17008.242991106123 cost_fun: 21778432.986646164 acc: 0.9740178149781389\n",
      "slope: 10503.881824551898 Intercept: 17025.762713887114 cost_fun: 21747281.82408512 acc: 0.9740549790509536\n",
      "slope: 10501.633644580676 Intercept: 17043.224375147445 cost_fun: 21716336.793418072 acc: 0.9740918972035494\n",
      "slope: 10499.39291522665 Intercept: 17060.62816730684 cost_fun: 21685596.530639514 acc: 0.974128571063217\n",
      "slope: 10497.159611797984 Intercept: 17077.97428214733 cost_fun: 21655059.680769708 acc: 0.9741650022464793\n",
      "slope: 10494.93370968467 Intercept: 17095.262910815363 cost_fun: 21624724.897795144 acc: 0.9742011923591622\n",
      "slope: 10492.715184358258 Intercept: 17112.494243823923 cost_fun: 21594590.844608918 acc: 0.9742371429964658\n",
      "slope: 10490.504011371586 Intercept: 17129.668471054614 cost_fun: 21564656.192952078 acc: 0.9742728557430343\n",
      "slope: 10488.300166358516 Intercept: 17146.785781759765 cost_fun: 21534919.623354934 acc: 0.9743083321730265\n",
      "slope: 10486.103625033658 Intercept: 17163.846364564506 cost_fun: 21505379.825078927 acc: 0.9743435738501841\n",
      "slope: 10483.914363192105 Intercept: 17180.850407468854 cost_fun: 21476035.49605882 acc: 0.974378582327902\n",
      "slope: 10481.73235670917 Intercept: 17197.79809784978 cost_fun: 21446885.342845425 acc: 0.9744133591492955\n",
      "slope: 10479.557581540113 Intercept: 17214.689622463276 cost_fun: 21417928.08054836 acc: 0.9744479058472691\n",
      "slope: 10477.390013719882 Intercept: 17231.525167446413 cost_fun: 21389162.432779662 acc: 0.974482223944584\n",
      "slope: 10475.229629362844 Intercept: 17248.304918319387 cost_fun: 21360587.131597374 acc: 0.9745163149539247\n",
      "slope: 10473.076404662528 Intercept: 17265.029059987573 cost_fun: 21332200.917449757 acc: 0.9745501803779663\n",
      "slope: 10470.930315891359 Intercept: 17281.69777674356 cost_fun: 21304002.53911958 acc: 0.9745838217094404\n",
      "slope: 10468.791339400392 Intercept: 17298.31125226917 cost_fun: 21275990.753669262 acc: 0.9746172404312009\n",
      "slope: 10466.659451619063 Intercept: 17314.869669637497 cost_fun: 21248164.32638587 acc: 0.9746504380162897\n",
      "slope: 10464.534629054919 Intercept: 17331.373211314916 cost_fun: 21220522.030726694 acc: 0.9746834159280011\n",
      "slope: 10462.416848293362 Intercept: 17347.8220591631 cost_fun: 21193062.6482653 acc: 0.9747161756199466\n",
      "slope: 10460.306085997392 Intercept: 17364.216394441017 cost_fun: 21165784.968637757 acc: 0.974748718536119\n",
      "slope: 10458.20231890735 Intercept: 17380.556397806933 cost_fun: 21138687.78948925 acc: 0.974781046110956\n",
      "slope: 10456.10552384066 Intercept: 17396.8422493204 cost_fun: 21111769.916421164 acc: 0.9748131597694032\n",
      "slope: 10454.015677691577 Intercept: 17413.074128444245 cost_fun: 21085030.16293844 acc: 0.9748450609269774\n",
      "slope: 10451.932757430925 Intercept: 17429.25221404653 cost_fun: 21058467.35039711 acc: 0.9748767509898287\n",
      "slope: 10449.856740105855 Intercept: 17445.376684402552 cost_fun: 21032080.307952624 acc: 0.9749082313548023\n",
      "slope: 10447.787602839579 Intercept: 17461.44771719678 cost_fun: 21005867.87250792 acc: 0.9749395034095004\n",
      "slope: 10445.72532283113 Intercept: 17477.465489524835 cost_fun: 20979828.888662502 acc: 0.9749705685323432\n",
      "slope: 10443.669877355096 Intercept: 17493.430177895425 cost_fun: 20953962.208661184 acc: 0.9750014280926296\n",
      "slope: 10441.62124376139 Intercept: 17509.341958232297 cost_fun: 20928266.692343652 acc: 0.9750320834505979\n",
      "slope: 10439.579399474982 Intercept: 17525.201005876173 cost_fun: 20902741.2070944 acc: 0.9750625359574852\n",
      "slope: 10437.544321995656 Intercept: 17541.00749558669 cost_fun: 20877384.627792306 acc: 0.9750927869555874\n",
      "slope: 10435.515988897769 Intercept: 17556.76160154432 cost_fun: 20852195.836761594 acc: 0.9751228377783182\n",
      "slope: 10433.49437782999 Intercept: 17572.463497352284 cost_fun: 20827173.72372216 acc: 0.975152689750268\n",
      "slope: 10431.479466515071 Intercept: 17588.113356038473 cost_fun: 20802317.18574093 acc: 0.975182344187262\n",
      "slope: 10429.471232749584 Intercept: 17603.71135005735 cost_fun: 20777625.12718294 acc: 0.9752118023964187\n",
      "slope: 10427.469654403692 Intercept: 17619.257651291857 cost_fun: 20753096.45966334 acc: 0.9752410656762068\n",
      "slope: 10425.47470942089 Intercept: 17634.7524310553 cost_fun: 20728730.101999156 acc: 0.9752701353165031\n",
      "slope: 10423.486375817778 Intercept: 17650.19586009325 cost_fun: 20704524.98016193 acc: 0.975299012598649\n",
      "slope: 10421.504631683803 Intercept: 17665.588108585398 cost_fun: 20680480.027230103 acc: 0.9753276987955072\n",
      "slope: 10419.52945518103 Intercept: 17680.92934614747 cost_fun: 20656594.18334203 acc: 0.9753561951715175\n",
      "slope: 10417.560824543893 Intercept: 17696.219741833058 cost_fun: 20632866.39564951 acc: 0.9753845029827528\n",
      "slope: 10415.59871807896 Intercept: 17711.459464135507 cost_fun: 20609295.61827104 acc: 0.9754126234769744\n",
      "slope: 10413.643114164695 Intercept: 17726.648680989765 cost_fun: 20585880.812245972 acc: 0.9754405578936869\n",
      "slope: 10411.693991251213 Intercept: 17741.787559774224 cost_fun: 20562620.945488553 acc: 0.975468307464193\n"
     ]
    },
    {
     "name": "stdout",
     "output_type": "stream",
     "text": [
      "slope: 10409.751327860049 Intercept: 17756.876267312582 cost_fun: 20539514.992742486 acc: 0.9754958734116477\n",
      "slope: 10407.815102583918 Intercept: 17771.914969875666 cost_fun: 20516561.935535777 acc: 0.975523256951112\n",
      "slope: 10405.885294086482 Intercept: 17786.903833183278 cost_fun: 20493760.762135886 acc: 0.9755504592896069\n",
      "slope: 10403.961881102108 Intercept: 17801.843022406003 cost_fun: 20471110.46750489 acc: 0.9755774816261664\n",
      "slope: 10402.04484243565 Intercept: 17816.73270216705 cost_fun: 20448610.0532555 acc: 0.97560432515189\n",
      "slope: 10400.134156962189 Intercept: 17831.57303654405 cost_fun: 20426258.527606856 acc: 0.9756309910499956\n",
      "slope: 10398.229803626826 Intercept: 17846.36418907087 cost_fun: 20404054.90534085 acc: 0.975657480495872\n",
      "slope: 10396.331761444437 Intercept: 17861.10632273942 cost_fun: 20381998.20775868 acc: 0.9756837946571297\n",
      "slope: 10394.440009499443 Intercept: 17875.799600001432 cost_fun: 20360087.462637782 acc: 0.9757099346936533\n",
      "slope: 10392.55452694558 Intercept: 17890.444182770276 cost_fun: 20338321.70418901 acc: 0.9757359017576521\n",
      "slope: 10390.675293005672 Intercept: 17905.04023242272 cost_fun: 20316699.973013792 acc: 0.9757616969937112\n",
      "slope: 10388.802286971399 Intercept: 17919.58790980073 cost_fun: 20295221.316062212 acc: 0.9757873215388416\n",
      "slope: 10386.93548820307 Intercept: 17934.087375213225 cost_fun: 20273884.786590766 acc: 0.9758127765225308\n",
      "slope: 10385.07487612939 Intercept: 17948.538788437843 cost_fun: 20252689.444120705 acc: 0.9758380630667921\n",
      "slope: 10383.220430247251 Intercept: 17962.94230872272 cost_fun: 20231634.354396507 acc: 0.9758631822862145\n",
      "slope: 10381.372130121483 Intercept: 17977.29809478822 cost_fun: 20210718.589344867 acc: 0.9758881352880112\n",
      "slope: 10379.529955384642 Intercept: 17991.60630482871 cost_fun: 20189941.227033652 acc: 0.9759129231720691\n",
      "slope: 10377.693885736784 Intercept: 18005.86709651429 cost_fun: 20169301.35163115 acc: 0.9759375470309971\n",
      "slope: 10375.86390094524 Intercept: 18020.080626992516 cost_fun: 20148798.053366054 acc: 0.9759620079501738\n",
      "slope: 10374.039980844393 Intercept: 18034.24705289016 cost_fun: 20128430.428486995 acc: 0.975986307007796\n",
      "slope: 10372.222105335459 Intercept: 18048.366530314925 cost_fun: 20108197.579222977 acc: 0.9760104452749256\n",
      "slope: 10370.410254386257 Intercept: 18062.43921485715 cost_fun: 20088098.613743585 acc: 0.9760344238155376\n",
      "slope: 10368.604408031002 Intercept: 18076.465261591547 cost_fun: 20068132.646119844 acc: 0.9760582436865659\n",
      "slope: 10366.804546370067 Intercept: 18090.4448250789 cost_fun: 20048298.79628511 acc: 0.9760819059379509\n",
      "slope: 10365.010649569784 Intercept: 18104.378059367762 cost_fun: 20028596.18999618 acc: 0.9761054116126855\n",
      "slope: 10363.222697862206 Intercept: 18118.26511799616 cost_fun: 20009023.958794966 acc: 0.9761287617468605\n",
      "slope: 10361.440671544904 Intercept: 18132.106153993296 cost_fun: 19989581.239970054 acc: 0.9761519573697112\n",
      "slope: 10359.664550980744 Intercept: 18145.90131988121 cost_fun: 19970267.17651865 acc: 0.976174999503662\n",
      "slope: 10357.894316597665 Intercept: 18159.65076767648 cost_fun: 19951080.91710901 acc: 0.976197889164372\n",
      "slope: 10356.12994888848 Intercept: 18173.354648891895 cost_fun: 19932021.61604264 acc: 0.9762206273607793\n",
      "slope: 10354.371428410637 Intercept: 18187.01311453811 cost_fun: 19913088.433217306 acc: 0.9762432150951458\n",
      "slope: 10352.618735786027 Intercept: 18200.62631512533 cost_fun: 19894280.534089684 acc: 0.9762656533631013\n",
      "slope: 10350.87185170076 Intercept: 18214.194400664954 cost_fun: 19875597.089638934 acc: 0.9762879431536874\n",
      "slope: 10349.130756904951 Intercept: 18227.717520671235 cost_fun: 19857037.276329778 acc: 0.976310085449401\n",
      "slope: 10347.39543221251 Intercept: 18241.19582416293 cost_fun: 19838600.27607658 acc: 0.9763320812262377\n",
      "slope: 10345.665858500935 Intercept: 18254.629459664928 cost_fun: 19820285.27620694 acc: 0.9763539314537347\n",
      "slope: 10343.942016711097 Intercept: 18268.01857520991 cost_fun: 19802091.46942618 acc: 0.9763756370950138\n",
      "slope: 10342.223887847022 Intercept: 18281.363318339954 cost_fun: 19784018.053781446 acc: 0.9763971991068238\n",
      "slope: 10340.5114529757 Intercept: 18294.663836108182 cost_fun: 19766064.23262668 acc: 0.976418618439582\n",
      "slope: 10338.80469322686 Intercept: 18307.920275080367 cost_fun: 19748229.214587267 acc: 0.976439896037417\n",
      "slope: 10337.103589792774 Intercept: 18321.132781336557 cost_fun: 19730512.213525247 acc: 0.9764610328382102\n",
      "slope: 10335.408123928037 Intercept: 18334.301500472684 cost_fun: 19712912.44850469 acc: 0.9764820297736364\n",
      "slope: 10333.718276949374 Intercept: 18347.426577602157 cost_fun: 19695429.143757153 acc: 0.9765028877692058\n"
     ]
    },
    {
     "data": {
      "image/png": "[encoded data removed]",
      "text/plain": [
       "<Figure size 432x288 with 1 Axes>"
      ]
     },
     "metadata": {
      "needs_background": "light"
     },
     "output_type": "display_data"
    }
   ],
   "source": [
    "x_test = x_test.flatten()\n",
    "grad_des(x_test,y_test)\n"
   ]
  },
  {
   "cell_type": "code",
   "execution_count": null,
   "id": "d5c28cb8",
   "metadata": {},
   "outputs": [],
   "source": []
  }
 ],
 "metadata": {
  "kernelspec": {
   "display_name": "Python 3 (ipykernel)",
   "language": "python",
   "name": "python3"
  },
  "language_info": {
   "codemirror_mode": {
    "name": "ipython",
    "version": 3
   },
   "file_extension": ".py",
   "mimetype": "text/x-python",
   "name": "python",
   "nbconvert_exporter": "python",
   "pygments_lexer": "ipython3",
   "version": "3.9.12"
  }
 },
 "nbformat": 4,
 "nbformat_minor": 5
}
